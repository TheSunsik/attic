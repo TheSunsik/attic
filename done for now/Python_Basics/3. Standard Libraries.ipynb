{
 "cells": [
  {
   "cell_type": "markdown",
   "metadata": {},
   "source": [
    "#### Reference\n",
    "<li><a href=\"https://www.youtube.com/user/schafer5\">Corey Schafer YouTube Channel</a></li>\n",
    "<li><a href=\"https://docs.python.org/3/tutorial/modules.html\">Official Python text on modules</a></li>\n",
    "<li><a href=\"https://docs.python.org/3.6/library/index.html\">Official Python text on standard libraries</a></li>\n",
    "\n",
    "#### Arranged By\n",
    "<li><a href=\"https://github.com/TheSunsik/wrapups/tree/master/Python/Basics\">Sunsik Kim</a></li>"
   ]
  },
  {
   "cell_type": "markdown",
   "metadata": {},
   "source": [
    "# 1. Modules and Packages"
   ]
  },
  {
   "cell_type": "markdown",
   "metadata": {},
   "source": [
    "## (1) Module"
   ]
  },
  {
   "cell_type": "markdown",
   "metadata": {},
   "source": [
    "확장자가 .py인 임의의 Python script를 모듈이라고 한다. 현재 script에서 다른 모듈에서 정의된 객체나 함수가 필요할 때, 대부분의 경우에 \"import 모듈명\"의 형식으로 현재 script에서 해당 모듈의 변수, 함수 등을 이용할 수 있게 한다. 이렇게 할 수 있는 것은 \"import 모듈명\"이라는 문장을 실행하면 (1)그 모듈이 어디있는지 찾아서 (2)그 모듈을 처음부터 끝까지 한 번 실행하기 때문이다.<br><br>\n",
    "&ensp;&ensp; (1) Module search path : list of **built-in modules** → paths in **sys.path**<br>\n",
    "&emsp;&emsp;&emsp;`built-in modules` : 이 텍스트의 주제로, 이 중 몇개가 이 텍스트에서 곧 다뤄질 예정.<br>\n",
    "&emsp;&emsp;&emsp;`sys.path` : 이들 중 하나인 sys에는 path라는 객체가 있는데, built-in module의 목록에서 다 찾아도 없으면 이 **객체에 있는 경로들** 순서대로 찾음<br>\n",
    "&emsp;&emsp;&emsp;&emsp;1) 먼저 현재 script file이 저장된 경로(저장되지 않았다면 현재 working directory)<br>\n",
    "&emsp;&emsp;&emsp;&emsp;2) 그 다음엔 PYTHONPATH(https://docs.python.org/3/using/cmdline.html#envvar-PYTHONPATH)<br>\n",
    "&ensp;&ensp; (2) 한번 실행한다는 게 모듈 내 변수를 global environment에 올리는게 아니라 그 모듈의 이름을 global symbol table에 올린다는 뜻임.<br>\n",
    "&ensp;&ensp;&emsp;&emsp;예를 들어 os라는 built-in module을 import했다면(import os) os라는 이름이 모듈로써 global symbol table에 올라가고, <br>\n",
    "&ensp;&ensp;&emsp;&emsp;이에 따라 이 모듈에 있는 getcwd 함수를 os.getcwd(os 모듈의 getcwd함수) 이런 식으로 사용할 수 있게 되는 것임.\n",
    "\n",
    "임의의 모듈에 적용할 수 있는 함수로 <b>dir()</b>이 있는데, 이 함수는 <b>모듈 이름을 input</b>으로 받아 그 <b>모듈이 정의하는 이름들의 list를 output</b>으로 출력한다. 이를 통해 해당 모듈로 실행할 수 있는 함수들의 list를 확인할 수 있다. 예를 들어, dir(builtins)를 통해 Python의 모든 예약 언어(reserved words)들의 목록을 조회할 수 있다"
   ]
  },
  {
   "cell_type": "code",
   "execution_count": 52,
   "metadata": {},
   "outputs": [],
   "source": [
    "import builtins\n",
    "# print(dir(builtins))"
   ]
  },
  {
   "cell_type": "markdown",
   "metadata": {},
   "source": [
    "참고로, `__name__`이라는 기본 내장 객체가 있는데, 이 객체는 한 script안에서 여러 개의 module을 attach할 때, buffer(커서라고 생각하면 편함)의 위치를 알려주는 기능을 한다. 예를 들어, 현재 script안에서 \\_\\_name__을 출력해보면 \\_\\_main__이라고 나온다."
   ]
  },
  {
   "cell_type": "code",
   "execution_count": 1,
   "metadata": {},
   "outputs": [
    {
     "name": "stdout",
     "output_type": "stream",
     "text": [
      "__main__\n"
     ]
    }
   ],
   "source": [
    "print(__name__)"
   ]
  },
  {
   "cell_type": "markdown",
   "metadata": {},
   "source": [
    "이는 buffer가 현재 작업중인 script에 있다는 것을 의미한다. 하지만 이때 alpha라는 module을 import하고, 그 안에 print(\\_\\_name__)을 입력해 놓았다면, alpha.py라는 출력값을 얻게 된다. 이는 module을 initialize할 때 buffer가 alpha.py에 있고, 따라서 그 위치가 출력되기 때문이다."
   ]
  },
  {
   "cell_type": "markdown",
   "metadata": {},
   "source": [
    "## (2) Package"
   ]
  },
  {
   "cell_type": "markdown",
   "metadata": {},
   "source": [
    "여러 개의 모듈을 포함하고 있는 폴더를 말한다. 당연히 여러 패키지가 다시 하나의 폴더에 포함되는 경우가 있을 수 있는데, 이 경우엔 package-subpackage-module이라는 개념어를 사용해 이 구조를 표현한다. 패키지 역시 \"import 패키지명\"을 실행해서 global symbol table에 추가시키는데, 패키지의 search path는 sys.path와 같다.<br>이때 일반 폴더와 패키지를 구분해서 인식하게 하는 것은 \\_\\_init\\_\\_모듈의 존재다. 내용에 상관없이 이 모듈이 있어야 해당 폴더를 패키지 또는 패키지의 일부로 인식한다. \"import 패키지명\"을 해서 search path에서 해당하는 패키지(즉, 폴더)를 찾았다면 이 파일이 가장 먼저 실행된다. 이 파일은 빈 script로 있어도 되지만, \\_\\_all\\_\\_객체를 등 여러가지 내용을 추가하는 것이 효과적인 initialization에 도움이 된다."
   ]
  },
  {
   "cell_type": "markdown",
   "metadata": {},
   "source": [
    "# 2. os Module"
   ]
  },
  {
   "cell_type": "code",
   "execution_count": 2,
   "metadata": {},
   "outputs": [],
   "source": [
    "import os"
   ]
  },
  {
   "cell_type": "markdown",
   "metadata": {},
   "source": [
    "현재 작업환경의 운영체제에 대한 정보를 얻을 수 있게 해주는 모듈이다. 다음과 같은 함수들이 정의되어 있다:<br>\n",
    "<br>\n",
    "<li>os.<b>getcwd</b> : 현재 working directory 출력</li>\n",
    "<li>os.<b>chdir</b> : working directory 변경</li>\n",
    "<li>os.<b>listdir</b> : 현재 디렉토리 내 파일 및 폴더 출력</li><br>\n",
    "\n",
    "<li>os.<b>makedirs</b> : 어떤 경로를 만들고자 할 때, 그에 필요한 모든 폴더 만듬(mkdir의 상위호환)</li>\n",
    "<li>os.<b>rmdir</b> : 지정한 디렉토리 하나를 삭제(removedirs의 하위호환이지만 안전)</li>\n",
    "<li>os.<b>rename</b> : 현재 디렉토리 내 파일 및 폴더의 이름 변경</li>"
   ]
  },
  {
   "cell_type": "code",
   "execution_count": 3,
   "metadata": {},
   "outputs": [],
   "source": [
    "os.makedirs(\"dumb/dumber\") # (1)\n",
    "os.chdir(\"./dumb\") # (2)\n",
    "os.rename(\"dumber\", \"dumbest\") # (3)\n",
    "os.rmdir(\"dumbest\") # (4)\n",
    "os.chdir(\"..\") # (5)\n",
    "os.rmdir(\"dumb\") # (6)"
   ]
  },
  {
   "cell_type": "markdown",
   "metadata": {},
   "source": [
    "working directory를 띄워놓고 위 코드를 실행시키면 화면에서 아무것도 일어나지 않은 것 처럼 보이지만, 실제로는: **(1)** dumb 폴더가 생성되고 그 안에 dumber라는 폴더가 생성된 후, **(2)** 생성한 dumb 폴더로 디렉토리를 이동시킨 다음 **(3)** 그 안에 또 생성시켰던 dumber 폴더의 이름을 dumbest로 바꾼 후 **(4)** 그 폴더를 삭제한 다음에 **(5)** dumb의 상위 폴더로 디렉토리를 이동한 다음 **(6)** dumb 폴더를 지웠다. 즉, 생성한 폴더 2개를 다시 다 지웠기 때문에 아무 일도 없었던 것처럼 보이게 된다. 추가로:\n",
    "<ol>\n",
    "    <li>os.mkdir(\"dumb\") → os.chdir(\"./dumb\") → os.mkdir(\"dumber\")와 같은 과정을 makedirs함수를 통해서는 한 줄만으로 표현할 수 있기 때문에 makedirs가 mkdir 함수의 상위호환이라고 할 만하다.</li>\n",
    "    <li><b>경로를 표현할 때 .는 현재 디렉토리를 의미</b>한다. 예를 들어 현재 디렉토리가 C:\\Users\\User\\Desktop이라면 \"./dumb\"은 C:\\Users\\User\\Desktop\\dumb을 의미하게 된다.</li>\n",
    "    <li>위에서도 언급했지만, \"..\"는 현재 디렉토리의 상위 디렉토리를 의미한다.</li>\n",
    "</ol>"
   ]
  },
  {
   "cell_type": "markdown",
   "metadata": {},
   "source": [
    "<li>os.<b>walk</b> : 한 디렉토리를 input으로 넣으면 그 디렉토리 하부에 있는 모든 경로들과 그 경로 각각의 폴더, 파일을 tuple형태로 반환함<br>\n",
    "예를 들어, \"C://Users//grainpowder//Desktop//github//wrapups/Python/\" 디렉토리에 Basics폴더가 있고,"
   ]
  },
  {
   "cell_type": "code",
   "execution_count": 4,
   "metadata": {},
   "outputs": [
    {
     "data": {
      "text/plain": [
       "['Basics']"
      ]
     },
     "execution_count": 4,
     "metadata": {},
     "output_type": "execute_result"
    }
   ],
   "source": [
    "os.chdir(\"..\")\n",
    "os.listdir()"
   ]
  },
  {
   "cell_type": "markdown",
   "metadata": {},
   "source": [
    "그 하부에는 .ipynb_checkpoints폴더와 다음 4개의 파일이 있고,"
   ]
  },
  {
   "cell_type": "code",
   "execution_count": 5,
   "metadata": {},
   "outputs": [
    {
     "data": {
      "text/plain": [
       "['.ipynb_checkpoints',\n",
       " '1. Basic Python Objects_Concepts.ipynb',\n",
       " '2. Basic Python Objects_Usage.ipynb',\n",
       " '3. Standard Libraries.ipynb',\n",
       " '4. PIP and Virtual Environment.ipynb']"
      ]
     },
     "execution_count": 5,
     "metadata": {},
     "output_type": "execute_result"
    }
   ],
   "source": [
    "os.chdir(\"./Basics\")\n",
    "os.listdir()"
   ]
  },
  {
   "cell_type": "markdown",
   "metadata": {},
   "source": [
    ".ipynb_checkpoints 폴더에는 다음 4개의 파일이 있다고 하자."
   ]
  },
  {
   "cell_type": "code",
   "execution_count": 6,
   "metadata": {},
   "outputs": [
    {
     "data": {
      "text/plain": [
       "['1. Basic Python Objects_Concepts-checkpoint.ipynb',\n",
       " '2. Basic Python Objects_Usage-checkpoint.ipynb',\n",
       " '3. Standard Libraries-checkpoint.ipynb',\n",
       " '4. PIP and Virtual Environment-checkpoint.ipynb']"
      ]
     },
     "execution_count": 6,
     "metadata": {},
     "output_type": "execute_result"
    }
   ],
   "source": [
    "os.chdir(\"./.ipynb_checkpoints/\")\n",
    "os.listdir()"
   ]
  },
  {
   "cell_type": "markdown",
   "metadata": {},
   "source": [
    "즉, 현재 directory(\".\")를 \"C://Users//grainpowder//Desktop//github//wrapups/Python/\"라 할 때 다음과 같은 트리 구조가 형성되어 있는 것이다:"
   ]
  },
  {
   "cell_type": "markdown",
   "metadata": {},
   "source": [
    "<ul>\n",
    "    <li>\".\"(\"C://Users//grainpowder//Desktop//github//wrapups/Python/\")\n",
    "        <ul>\n",
    "            <li>Basics</li>\n",
    "            <ul>\n",
    "                <li>.ipynb_checkpoints\n",
    "                    <ul>\n",
    "                        <li>1. Basic Python Objects_Concepts-checkpoint.ipynb</li>\n",
    "                        <li>2. Basic Python Objects_Usage-checkpoint.ipynb</li>\n",
    "                        <li>3. Standard Libraries-checkpoint.ipynb</li>\n",
    "                        <li>4. PIP and Virtual Environment-checkpoint.ipynb</li>\n",
    "                    </ul></li>\n",
    "                <li>1. Basic Python Objects_Concepts.ipynb</li>\n",
    "                <li>2. Basic Python Objects_Usage.ipynb</li>\n",
    "                <li>3. Standard Libraries.ipynb</li>\n",
    "                <li>4. PIP and Virtual Environment.ipynb</li>\n",
    "            </ul>\n",
    "        </ul></li>\n",
    "</ul>"
   ]
  },
  {
   "cell_type": "markdown",
   "metadata": {},
   "source": [
    "이와 같은 구조의 C://Users//grainpowder//Desktop//github//wrapups/Python/에 os.walk를 적용하면 세 개의 원소로 이루어진 튜플 세 개를 참조할 수 있는 generator를 얻게 된다. list로 이를 참조하게 해 그 형태를 보면 다음과 같다:"
   ]
  },
  {
   "cell_type": "code",
   "execution_count": 7,
   "metadata": {},
   "outputs": [
    {
     "data": {
      "text/plain": [
       "[('.', ['Basics'], []),\n",
       " ('.\\\\Basics',\n",
       "  ['.ipynb_checkpoints'],\n",
       "  ['1. Basic Python Objects_Concepts.ipynb',\n",
       "   '2. Basic Python Objects_Usage.ipynb',\n",
       "   '3. Standard Libraries.ipynb',\n",
       "   '4. PIP and Virtual Environment.ipynb']),\n",
       " ('.\\\\Basics\\\\.ipynb_checkpoints',\n",
       "  [],\n",
       "  ['1. Basic Python Objects_Concepts-checkpoint.ipynb',\n",
       "   '2. Basic Python Objects_Usage-checkpoint.ipynb',\n",
       "   '3. Standard Libraries-checkpoint.ipynb',\n",
       "   '4. PIP and Virtual Environment-checkpoint.ipynb'])]"
      ]
     },
     "execution_count": 7,
     "metadata": {},
     "output_type": "execute_result"
    }
   ],
   "source": [
    "os.chdir(\"../..\") # 현재 directory를 C://Users//grainpowder//Desktop//github//wrapups/Python/로 만듦\n",
    "walk_list = list(os.walk(\".\"))\n",
    "walk_list"
   ]
  },
  {
   "cell_type": "markdown",
   "metadata": {},
   "source": [
    "이 중 './Basics'폴더에 해당하는 두 번째 원소를 들여다보면 다음과 같다.:"
   ]
  },
  {
   "cell_type": "code",
   "execution_count": 8,
   "metadata": {},
   "outputs": [
    {
     "data": {
      "text/plain": [
       "('.\\\\Basics',\n",
       " ['.ipynb_checkpoints'],\n",
       " ['1. Basic Python Objects_Concepts.ipynb',\n",
       "  '2. Basic Python Objects_Usage.ipynb',\n",
       "  '3. Standard Libraries.ipynb',\n",
       "  '4. PIP and Virtual Environment.ipynb'])"
      ]
     },
     "execution_count": 8,
     "metadata": {},
     "output_type": "execute_result"
    }
   ],
   "source": [
    "walk_list[1]"
   ]
  },
  {
   "cell_type": "markdown",
   "metadata": {},
   "source": [
    "'.\\\\Basics'를 통해 해당 폴더의 경로를, \\['.ipynb_checkpoints'\\]를 통해 해당 폴더 내 폴더를, \\['1. Basic Python Objects_Concepts.ipynb', ...를 통해 해당 폴더 내 파일의 정보를 담고 있음을 알 수 있다."
   ]
  },
  {
   "cell_type": "markdown",
   "metadata": {},
   "source": [
    "<li>os.<b>stat</b> : 입력한 폴더나 파일에 대한 통계값을 제공하는 함수</li>"
   ]
  },
  {
   "cell_type": "code",
   "execution_count": 9,
   "metadata": {},
   "outputs": [
    {
     "data": {
      "text/plain": [
       "os.stat_result(st_mode=16895, st_ino=1407374883610701, st_dev=1679685516, st_nlink=1, st_uid=0, st_gid=0, st_size=4096, st_atime=1547964295, st_mtime=1547964295, st_ctime=1547484905)"
      ]
     },
     "execution_count": 9,
     "metadata": {},
     "output_type": "execute_result"
    }
   ],
   "source": [
    "os.stat(\".\")"
   ]
  },
  {
   "cell_type": "code",
   "execution_count": 10,
   "metadata": {},
   "outputs": [
    {
     "data": {
      "text/plain": [
       "1547964295.0058906"
      ]
     },
     "execution_count": 10,
     "metadata": {},
     "output_type": "execute_result"
    }
   ],
   "source": [
    "os.stat(\".\").st_mtime # 마지막으로 수정된 시간의 timestamp"
   ]
  },
  {
   "cell_type": "markdown",
   "metadata": {},
   "source": [
    "이 중에서 시간과 관련된 정보들은 timestamp라는 형태로 저장되어 있는데, datetime 모듈을 활용해야 이를 가독성있는 시간 정보로 바꿀 수 있다."
   ]
  },
  {
   "cell_type": "code",
   "execution_count": 11,
   "metadata": {},
   "outputs": [
    {
     "name": "stdout",
     "output_type": "stream",
     "text": [
      "2019-01-20 15:04:55.005891\n"
     ]
    }
   ],
   "source": [
    "from datetime import datetime # 이 패키지를 통해 읽을 수 있는 날짜로 바꿀 수 있음\n",
    "print(datetime.fromtimestamp(os.stat(\".\").st_mtime))"
   ]
  },
  {
   "cell_type": "code",
   "execution_count": 17,
   "metadata": {},
   "outputs": [
    {
     "name": "stdout",
     "output_type": "stream",
     "text": [
      "None\n"
     ]
    }
   ],
   "source": [
    "print(os.environ.get(\"HOME\"))"
   ]
  },
  {
   "cell_type": "markdown",
   "metadata": {},
   "source": [
    "# 3. datetime Module"
   ]
  },
  {
   "cell_type": "code",
   "execution_count": 19,
   "metadata": {},
   "outputs": [
    {
     "name": "stdout",
     "output_type": "stream",
     "text": [
      "2019-01-28\n"
     ]
    }
   ],
   "source": [
    "import datetime\n",
    "import pytz\n",
    "d = datetime.date(2019, 1, 28) # no leading zero!\n",
    "print(d)"
   ]
  },
  {
   "cell_type": "code",
   "execution_count": 22,
   "metadata": {},
   "outputs": [
    {
     "name": "stdout",
     "output_type": "stream",
     "text": [
      "2019-01-20 2019 1 20\n"
     ]
    }
   ],
   "source": [
    "tday = datetime.date.today()\n",
    "print(tday, tday.year, tday.month, tday.day)"
   ]
  },
  {
   "cell_type": "code",
   "execution_count": 23,
   "metadata": {},
   "outputs": [
    {
     "name": "stdout",
     "output_type": "stream",
     "text": [
      "6 7\n"
     ]
    }
   ],
   "source": [
    "print(tday.weekday(), tday.isoweekday())\n",
    "# weekday : monday 0, sunday 6\n",
    "# isoweekday : monday 1 sunday 7"
   ]
  },
  {
   "cell_type": "code",
   "execution_count": 27,
   "metadata": {},
   "outputs": [
    {
     "name": "stdout",
     "output_type": "stream",
     "text": [
      "2019-01-27\n"
     ]
    }
   ],
   "source": [
    "# time delta : diff between two date\n",
    "tdelta = datetime.timedelta(days = 7)\n",
    "print(datetime.date.today() + tdelta)"
   ]
  },
  {
   "cell_type": "code",
   "execution_count": 29,
   "metadata": {},
   "outputs": [
    {
     "name": "stdout",
     "output_type": "stream",
     "text": [
      "7\n"
     ]
    }
   ],
   "source": [
    "bday = datetime.date(2019, 1, 27)\n",
    "till_bday = bday - tday\n",
    "print(till_bday.days)"
   ]
  },
  {
   "cell_type": "code",
   "execution_count": 30,
   "metadata": {},
   "outputs": [
    {
     "name": "stdout",
     "output_type": "stream",
     "text": [
      "604800.0\n"
     ]
    }
   ],
   "source": [
    "print(till_bday.total_seconds())"
   ]
  },
  {
   "cell_type": "code",
   "execution_count": 31,
   "metadata": {},
   "outputs": [
    {
     "name": "stdout",
     "output_type": "stream",
     "text": [
      "2016-07-26 12:30:45.100000\n"
     ]
    }
   ],
   "source": [
    "dt = datetime.datetime(2016, 7, 26, 12, 30, 45, 100000)\n",
    "print(dt) # datetime으로는 milisecond까지 지정할 수 있음"
   ]
  },
  {
   "cell_type": "code",
   "execution_count": 33,
   "metadata": {},
   "outputs": [
    {
     "name": "stdout",
     "output_type": "stream",
     "text": [
      "2016-07-26 || 12:30:45.100000\n"
     ]
    }
   ],
   "source": [
    "print(dt.date(), \"||\", dt.time())"
   ]
  },
  {
   "cell_type": "code",
   "execution_count": 35,
   "metadata": {},
   "outputs": [
    {
     "name": "stdout",
     "output_type": "stream",
     "text": [
      "2016-08-02 12:30:45.100000\n"
     ]
    }
   ],
   "source": [
    "print(dt + tdelta)"
   ]
  },
  {
   "cell_type": "code",
   "execution_count": 37,
   "metadata": {},
   "outputs": [
    {
     "name": "stdout",
     "output_type": "stream",
     "text": [
      "2016-07-27 12:30:45+00:00\n"
     ]
    }
   ],
   "source": [
    "# timezone aware datetime\n",
    "dt = datetime.datetime(2016, 7, 27, 12, 30, 45, tzinfo = pytz.UTC)\n",
    "print(dt) # +00:00 : UTC offset"
   ]
  },
  {
   "cell_type": "code",
   "execution_count": 38,
   "metadata": {},
   "outputs": [],
   "source": [
    "dt_today = datetime.datetime.today() # current local datetime with timezone of none\n",
    "dt_now = datetime.datetime.now() # current local datetime with empty timezone(user can specify)"
   ]
  },
  {
   "cell_type": "code",
   "execution_count": 42,
   "metadata": {},
   "outputs": [
    {
     "name": "stdout",
     "output_type": "stream",
     "text": [
      "2019-01-20 11:27:34.360731+00:00\n"
     ]
    }
   ],
   "source": [
    "dt_utcnow = datetime.datetime.now(tz=pytz.UTC)\n",
    "print(dt_utcnow) # time zone aware datetime"
   ]
  },
  {
   "cell_type": "code",
   "execution_count": 43,
   "metadata": {},
   "outputs": [],
   "source": [
    "dt_mtn = dt_utcnow.astimezone(pytz.timezone('US/Mountain')) # changing timezone\n",
    "print(dt_mtn)"
   ]
  },
  {
   "cell_type": "markdown",
   "metadata": {},
   "source": [
    "pytz : provides large list of timezone"
   ]
  },
  {
   "cell_type": "code",
   "execution_count": 45,
   "metadata": {},
   "outputs": [
    {
     "name": "stdout",
     "output_type": "stream",
     "text": [
      "Africa/Abidjan\n",
      "Africa/Accra\n",
      "Africa/Addis_Ababa\n",
      "Africa/Algiers\n",
      "Africa/Asmara\n",
      "Africa/Asmera\n",
      "Africa/Bamako\n",
      "Africa/Bangui\n",
      "Africa/Banjul\n",
      "Africa/Bissau\n",
      "Africa/Blantyre\n",
      "Africa/Brazzaville\n",
      "Africa/Bujumbura\n",
      "Africa/Cairo\n",
      "Africa/Casablanca\n",
      "Africa/Ceuta\n",
      "Africa/Conakry\n",
      "Africa/Dakar\n",
      "Africa/Dar_es_Salaam\n",
      "Africa/Djibouti\n",
      "Africa/Douala\n",
      "Africa/El_Aaiun\n",
      "Africa/Freetown\n",
      "Africa/Gaborone\n",
      "Africa/Harare\n",
      "Africa/Johannesburg\n",
      "Africa/Juba\n",
      "Africa/Kampala\n",
      "Africa/Khartoum\n",
      "Africa/Kigali\n",
      "Africa/Kinshasa\n",
      "Africa/Lagos\n",
      "Africa/Libreville\n",
      "Africa/Lome\n",
      "Africa/Luanda\n",
      "Africa/Lubumbashi\n",
      "Africa/Lusaka\n",
      "Africa/Malabo\n",
      "Africa/Maputo\n",
      "Africa/Maseru\n",
      "Africa/Mbabane\n",
      "Africa/Mogadishu\n",
      "Africa/Monrovia\n",
      "Africa/Nairobi\n",
      "Africa/Ndjamena\n",
      "Africa/Niamey\n",
      "Africa/Nouakchott\n",
      "Africa/Ouagadougou\n",
      "Africa/Porto-Novo\n",
      "Africa/Sao_Tome\n",
      "Africa/Timbuktu\n",
      "Africa/Tripoli\n",
      "Africa/Tunis\n",
      "Africa/Windhoek\n",
      "America/Adak\n",
      "America/Anchorage\n",
      "America/Anguilla\n",
      "America/Antigua\n",
      "America/Araguaina\n",
      "America/Argentina/Buenos_Aires\n",
      "America/Argentina/Catamarca\n",
      "America/Argentina/ComodRivadavia\n",
      "America/Argentina/Cordoba\n",
      "America/Argentina/Jujuy\n",
      "America/Argentina/La_Rioja\n",
      "America/Argentina/Mendoza\n",
      "America/Argentina/Rio_Gallegos\n",
      "America/Argentina/Salta\n",
      "America/Argentina/San_Juan\n",
      "America/Argentina/San_Luis\n",
      "America/Argentina/Tucuman\n",
      "America/Argentina/Ushuaia\n",
      "America/Aruba\n",
      "America/Asuncion\n",
      "America/Atikokan\n",
      "America/Atka\n",
      "America/Bahia\n",
      "America/Bahia_Banderas\n",
      "America/Barbados\n",
      "America/Belem\n",
      "America/Belize\n",
      "America/Blanc-Sablon\n",
      "America/Boa_Vista\n",
      "America/Bogota\n",
      "America/Boise\n",
      "America/Buenos_Aires\n",
      "America/Cambridge_Bay\n",
      "America/Campo_Grande\n",
      "America/Cancun\n",
      "America/Caracas\n",
      "America/Catamarca\n",
      "America/Cayenne\n",
      "America/Cayman\n",
      "America/Chicago\n",
      "America/Chihuahua\n",
      "America/Coral_Harbour\n",
      "America/Cordoba\n",
      "America/Costa_Rica\n",
      "America/Creston\n",
      "America/Cuiaba\n",
      "America/Curacao\n",
      "America/Danmarkshavn\n",
      "America/Dawson\n",
      "America/Dawson_Creek\n",
      "America/Denver\n",
      "America/Detroit\n",
      "America/Dominica\n",
      "America/Edmonton\n",
      "America/Eirunepe\n",
      "America/El_Salvador\n",
      "America/Ensenada\n",
      "America/Fort_Nelson\n",
      "America/Fort_Wayne\n",
      "America/Fortaleza\n",
      "America/Glace_Bay\n",
      "America/Godthab\n",
      "America/Goose_Bay\n",
      "America/Grand_Turk\n",
      "America/Grenada\n",
      "America/Guadeloupe\n",
      "America/Guatemala\n",
      "America/Guayaquil\n",
      "America/Guyana\n",
      "America/Halifax\n",
      "America/Havana\n",
      "America/Hermosillo\n",
      "America/Indiana/Indianapolis\n",
      "America/Indiana/Knox\n",
      "America/Indiana/Marengo\n",
      "America/Indiana/Petersburg\n",
      "America/Indiana/Tell_City\n",
      "America/Indiana/Vevay\n",
      "America/Indiana/Vincennes\n",
      "America/Indiana/Winamac\n",
      "America/Indianapolis\n",
      "America/Inuvik\n",
      "America/Iqaluit\n",
      "America/Jamaica\n",
      "America/Jujuy\n",
      "America/Juneau\n",
      "America/Kentucky/Louisville\n",
      "America/Kentucky/Monticello\n",
      "America/Knox_IN\n",
      "America/Kralendijk\n",
      "America/La_Paz\n",
      "America/Lima\n",
      "America/Los_Angeles\n",
      "America/Louisville\n",
      "America/Lower_Princes\n",
      "America/Maceio\n",
      "America/Managua\n",
      "America/Manaus\n",
      "America/Marigot\n",
      "America/Martinique\n",
      "America/Matamoros\n",
      "America/Mazatlan\n",
      "America/Mendoza\n",
      "America/Menominee\n",
      "America/Merida\n",
      "America/Metlakatla\n",
      "America/Mexico_City\n",
      "America/Miquelon\n",
      "America/Moncton\n",
      "America/Monterrey\n",
      "America/Montevideo\n",
      "America/Montreal\n",
      "America/Montserrat\n",
      "America/Nassau\n",
      "America/New_York\n",
      "America/Nipigon\n",
      "America/Nome\n",
      "America/Noronha\n",
      "America/North_Dakota/Beulah\n",
      "America/North_Dakota/Center\n",
      "America/North_Dakota/New_Salem\n",
      "America/Ojinaga\n",
      "America/Panama\n",
      "America/Pangnirtung\n",
      "America/Paramaribo\n",
      "America/Phoenix\n",
      "America/Port-au-Prince\n",
      "America/Port_of_Spain\n",
      "America/Porto_Acre\n",
      "America/Porto_Velho\n",
      "America/Puerto_Rico\n",
      "America/Punta_Arenas\n",
      "America/Rainy_River\n",
      "America/Rankin_Inlet\n",
      "America/Recife\n",
      "America/Regina\n",
      "America/Resolute\n",
      "America/Rio_Branco\n",
      "America/Rosario\n",
      "America/Santa_Isabel\n",
      "America/Santarem\n",
      "America/Santiago\n",
      "America/Santo_Domingo\n",
      "America/Sao_Paulo\n",
      "America/Scoresbysund\n",
      "America/Shiprock\n",
      "America/Sitka\n",
      "America/St_Barthelemy\n",
      "America/St_Johns\n",
      "America/St_Kitts\n",
      "America/St_Lucia\n",
      "America/St_Thomas\n",
      "America/St_Vincent\n",
      "America/Swift_Current\n",
      "America/Tegucigalpa\n",
      "America/Thule\n",
      "America/Thunder_Bay\n",
      "America/Tijuana\n",
      "America/Toronto\n",
      "America/Tortola\n",
      "America/Vancouver\n",
      "America/Virgin\n",
      "America/Whitehorse\n",
      "America/Winnipeg\n",
      "America/Yakutat\n",
      "America/Yellowknife\n",
      "Antarctica/Casey\n",
      "Antarctica/Davis\n",
      "Antarctica/DumontDUrville\n",
      "Antarctica/Macquarie\n",
      "Antarctica/Mawson\n",
      "Antarctica/McMurdo\n",
      "Antarctica/Palmer\n",
      "Antarctica/Rothera\n",
      "Antarctica/South_Pole\n",
      "Antarctica/Syowa\n",
      "Antarctica/Troll\n",
      "Antarctica/Vostok\n",
      "Arctic/Longyearbyen\n",
      "Asia/Aden\n",
      "Asia/Almaty\n",
      "Asia/Amman\n",
      "Asia/Anadyr\n",
      "Asia/Aqtau\n",
      "Asia/Aqtobe\n",
      "Asia/Ashgabat\n",
      "Asia/Ashkhabad\n",
      "Asia/Atyrau\n",
      "Asia/Baghdad\n",
      "Asia/Bahrain\n",
      "Asia/Baku\n",
      "Asia/Bangkok\n",
      "Asia/Barnaul\n",
      "Asia/Beirut\n",
      "Asia/Bishkek\n",
      "Asia/Brunei\n",
      "Asia/Calcutta\n",
      "Asia/Chita\n",
      "Asia/Choibalsan\n",
      "Asia/Chongqing\n",
      "Asia/Chungking\n",
      "Asia/Colombo\n",
      "Asia/Dacca\n",
      "Asia/Damascus\n",
      "Asia/Dhaka\n",
      "Asia/Dili\n",
      "Asia/Dubai\n",
      "Asia/Dushanbe\n",
      "Asia/Famagusta\n",
      "Asia/Gaza\n",
      "Asia/Harbin\n",
      "Asia/Hebron\n",
      "Asia/Ho_Chi_Minh\n",
      "Asia/Hong_Kong\n",
      "Asia/Hovd\n",
      "Asia/Irkutsk\n",
      "Asia/Istanbul\n",
      "Asia/Jakarta\n",
      "Asia/Jayapura\n",
      "Asia/Jerusalem\n",
      "Asia/Kabul\n",
      "Asia/Kamchatka\n",
      "Asia/Karachi\n",
      "Asia/Kashgar\n",
      "Asia/Kathmandu\n",
      "Asia/Katmandu\n",
      "Asia/Khandyga\n",
      "Asia/Kolkata\n",
      "Asia/Krasnoyarsk\n",
      "Asia/Kuala_Lumpur\n",
      "Asia/Kuching\n",
      "Asia/Kuwait\n",
      "Asia/Macao\n",
      "Asia/Macau\n",
      "Asia/Magadan\n",
      "Asia/Makassar\n",
      "Asia/Manila\n",
      "Asia/Muscat\n",
      "Asia/Nicosia\n",
      "Asia/Novokuznetsk\n",
      "Asia/Novosibirsk\n",
      "Asia/Omsk\n",
      "Asia/Oral\n",
      "Asia/Phnom_Penh\n",
      "Asia/Pontianak\n",
      "Asia/Pyongyang\n",
      "Asia/Qatar\n",
      "Asia/Qostanay\n",
      "Asia/Qyzylorda\n",
      "Asia/Rangoon\n",
      "Asia/Riyadh\n",
      "Asia/Saigon\n",
      "Asia/Sakhalin\n",
      "Asia/Samarkand\n",
      "Asia/Seoul\n",
      "Asia/Shanghai\n",
      "Asia/Singapore\n",
      "Asia/Srednekolymsk\n",
      "Asia/Taipei\n",
      "Asia/Tashkent\n",
      "Asia/Tbilisi\n",
      "Asia/Tehran\n",
      "Asia/Tel_Aviv\n",
      "Asia/Thimbu\n",
      "Asia/Thimphu\n",
      "Asia/Tokyo\n",
      "Asia/Tomsk\n",
      "Asia/Ujung_Pandang\n",
      "Asia/Ulaanbaatar\n",
      "Asia/Ulan_Bator\n",
      "Asia/Urumqi\n",
      "Asia/Ust-Nera\n",
      "Asia/Vientiane\n",
      "Asia/Vladivostok\n",
      "Asia/Yakutsk\n",
      "Asia/Yangon\n",
      "Asia/Yekaterinburg\n",
      "Asia/Yerevan\n",
      "Atlantic/Azores\n",
      "Atlantic/Bermuda\n",
      "Atlantic/Canary\n",
      "Atlantic/Cape_Verde\n",
      "Atlantic/Faeroe\n",
      "Atlantic/Faroe\n",
      "Atlantic/Jan_Mayen\n",
      "Atlantic/Madeira\n",
      "Atlantic/Reykjavik\n",
      "Atlantic/South_Georgia\n",
      "Atlantic/St_Helena\n",
      "Atlantic/Stanley\n",
      "Australia/ACT\n",
      "Australia/Adelaide\n",
      "Australia/Brisbane\n",
      "Australia/Broken_Hill\n",
      "Australia/Canberra\n",
      "Australia/Currie\n",
      "Australia/Darwin\n",
      "Australia/Eucla\n",
      "Australia/Hobart\n",
      "Australia/LHI\n",
      "Australia/Lindeman\n",
      "Australia/Lord_Howe\n",
      "Australia/Melbourne\n",
      "Australia/NSW\n",
      "Australia/North\n",
      "Australia/Perth\n",
      "Australia/Queensland\n",
      "Australia/South\n",
      "Australia/Sydney\n",
      "Australia/Tasmania\n",
      "Australia/Victoria\n",
      "Australia/West\n",
      "Australia/Yancowinna\n",
      "Brazil/Acre\n",
      "Brazil/DeNoronha\n",
      "Brazil/East\n",
      "Brazil/West\n",
      "CET\n",
      "CST6CDT\n",
      "Canada/Atlantic\n",
      "Canada/Central\n",
      "Canada/Eastern\n",
      "Canada/Mountain\n",
      "Canada/Newfoundland\n",
      "Canada/Pacific\n",
      "Canada/Saskatchewan\n",
      "Canada/Yukon\n",
      "Chile/Continental\n",
      "Chile/EasterIsland\n",
      "Cuba\n",
      "EET\n",
      "EST\n",
      "EST5EDT\n",
      "Egypt\n",
      "Eire\n",
      "Etc/GMT\n",
      "Etc/GMT+0\n",
      "Etc/GMT+1\n",
      "Etc/GMT+10\n",
      "Etc/GMT+11\n",
      "Etc/GMT+12\n",
      "Etc/GMT+2\n",
      "Etc/GMT+3\n",
      "Etc/GMT+4\n",
      "Etc/GMT+5\n",
      "Etc/GMT+6\n",
      "Etc/GMT+7\n",
      "Etc/GMT+8\n",
      "Etc/GMT+9\n",
      "Etc/GMT-0\n",
      "Etc/GMT-1\n",
      "Etc/GMT-10\n",
      "Etc/GMT-11\n",
      "Etc/GMT-12\n",
      "Etc/GMT-13\n",
      "Etc/GMT-14\n",
      "Etc/GMT-2\n",
      "Etc/GMT-3\n",
      "Etc/GMT-4\n",
      "Etc/GMT-5\n",
      "Etc/GMT-6\n",
      "Etc/GMT-7\n",
      "Etc/GMT-8\n",
      "Etc/GMT-9\n",
      "Etc/GMT0\n",
      "Etc/Greenwich\n",
      "Etc/UCT\n",
      "Etc/UTC\n",
      "Etc/Universal\n",
      "Etc/Zulu\n",
      "Europe/Amsterdam\n",
      "Europe/Andorra\n",
      "Europe/Astrakhan\n",
      "Europe/Athens\n",
      "Europe/Belfast\n",
      "Europe/Belgrade\n",
      "Europe/Berlin\n",
      "Europe/Bratislava\n",
      "Europe/Brussels\n",
      "Europe/Bucharest\n",
      "Europe/Budapest\n",
      "Europe/Busingen\n",
      "Europe/Chisinau\n",
      "Europe/Copenhagen\n",
      "Europe/Dublin\n",
      "Europe/Gibraltar\n",
      "Europe/Guernsey\n",
      "Europe/Helsinki\n",
      "Europe/Isle_of_Man\n",
      "Europe/Istanbul\n",
      "Europe/Jersey\n",
      "Europe/Kaliningrad\n",
      "Europe/Kiev\n",
      "Europe/Kirov\n",
      "Europe/Lisbon\n",
      "Europe/Ljubljana\n",
      "Europe/London\n",
      "Europe/Luxembourg\n",
      "Europe/Madrid\n",
      "Europe/Malta\n",
      "Europe/Mariehamn\n",
      "Europe/Minsk\n",
      "Europe/Monaco\n",
      "Europe/Moscow\n",
      "Europe/Nicosia\n",
      "Europe/Oslo\n",
      "Europe/Paris\n",
      "Europe/Podgorica\n",
      "Europe/Prague\n",
      "Europe/Riga\n",
      "Europe/Rome\n",
      "Europe/Samara\n",
      "Europe/San_Marino\n",
      "Europe/Sarajevo\n",
      "Europe/Saratov\n",
      "Europe/Simferopol\n",
      "Europe/Skopje\n",
      "Europe/Sofia\n",
      "Europe/Stockholm\n",
      "Europe/Tallinn\n",
      "Europe/Tirane\n",
      "Europe/Tiraspol\n",
      "Europe/Ulyanovsk\n",
      "Europe/Uzhgorod\n",
      "Europe/Vaduz\n",
      "Europe/Vatican\n",
      "Europe/Vienna\n",
      "Europe/Vilnius\n",
      "Europe/Volgograd\n",
      "Europe/Warsaw\n",
      "Europe/Zagreb\n",
      "Europe/Zaporozhye\n",
      "Europe/Zurich\n",
      "GB\n",
      "GB-Eire\n",
      "GMT\n",
      "GMT+0\n",
      "GMT-0\n",
      "GMT0\n",
      "Greenwich\n",
      "HST\n",
      "Hongkong\n",
      "Iceland\n",
      "Indian/Antananarivo\n",
      "Indian/Chagos\n",
      "Indian/Christmas\n",
      "Indian/Cocos\n",
      "Indian/Comoro\n",
      "Indian/Kerguelen\n",
      "Indian/Mahe\n",
      "Indian/Maldives\n",
      "Indian/Mauritius\n",
      "Indian/Mayotte\n",
      "Indian/Reunion\n",
      "Iran\n",
      "Israel\n",
      "Jamaica\n",
      "Japan\n",
      "Kwajalein\n",
      "Libya\n",
      "MET\n",
      "MST\n",
      "MST7MDT\n",
      "Mexico/BajaNorte\n",
      "Mexico/BajaSur\n",
      "Mexico/General\n",
      "NZ\n",
      "NZ-CHAT\n",
      "Navajo\n",
      "PRC\n",
      "PST8PDT\n",
      "Pacific/Apia\n",
      "Pacific/Auckland\n",
      "Pacific/Bougainville\n",
      "Pacific/Chatham\n",
      "Pacific/Chuuk\n",
      "Pacific/Easter\n",
      "Pacific/Efate\n",
      "Pacific/Enderbury\n",
      "Pacific/Fakaofo\n",
      "Pacific/Fiji\n",
      "Pacific/Funafuti\n",
      "Pacific/Galapagos\n",
      "Pacific/Gambier\n",
      "Pacific/Guadalcanal\n",
      "Pacific/Guam\n",
      "Pacific/Honolulu\n",
      "Pacific/Johnston\n",
      "Pacific/Kiritimati\n",
      "Pacific/Kosrae\n",
      "Pacific/Kwajalein\n",
      "Pacific/Majuro\n",
      "Pacific/Marquesas\n",
      "Pacific/Midway\n",
      "Pacific/Nauru\n",
      "Pacific/Niue\n",
      "Pacific/Norfolk\n",
      "Pacific/Noumea\n",
      "Pacific/Pago_Pago\n",
      "Pacific/Palau\n",
      "Pacific/Pitcairn\n",
      "Pacific/Pohnpei\n",
      "Pacific/Ponape\n",
      "Pacific/Port_Moresby\n",
      "Pacific/Rarotonga\n",
      "Pacific/Saipan\n",
      "Pacific/Samoa\n",
      "Pacific/Tahiti\n",
      "Pacific/Tarawa\n",
      "Pacific/Tongatapu\n",
      "Pacific/Truk\n",
      "Pacific/Wake\n",
      "Pacific/Wallis\n",
      "Pacific/Yap\n",
      "Poland\n",
      "Portugal\n",
      "ROC\n",
      "ROK\n",
      "Singapore\n",
      "Turkey\n",
      "UCT\n",
      "US/Alaska\n",
      "US/Aleutian\n",
      "US/Arizona\n",
      "US/Central\n",
      "US/East-Indiana\n",
      "US/Eastern\n",
      "US/Hawaii\n",
      "US/Indiana-Starke\n",
      "US/Michigan\n",
      "US/Mountain\n",
      "US/Pacific\n",
      "US/Samoa\n",
      "UTC\n",
      "Universal\n",
      "W-SU\n",
      "WET\n",
      "Zulu\n"
     ]
    }
   ],
   "source": [
    "for tz in pytz.all_timezones:\n",
    "    print(tz)"
   ]
  },
  {
   "cell_type": "code",
   "execution_count": 48,
   "metadata": {},
   "outputs": [],
   "source": [
    "# naive datetime -> timezone aware datetime\n",
    "# astimezone() cant be applied to a naive datetime\n",
    "dt_mtn = datetime.datetime.now()\n",
    "mtn_tz = pytz.timezone('US/Mountain') # grab certain timezone\n",
    "dt_mtn = mtn_tz.localize(dt_mtn) # localize certain datetime into timezone aware datetime by grabbed timezone"
   ]
  },
  {
   "cell_type": "code",
   "execution_count": 49,
   "metadata": {},
   "outputs": [
    {
     "name": "stdout",
     "output_type": "stream",
     "text": [
      "January 20, 2019\n"
     ]
    }
   ],
   "source": [
    "print(dt_mtn.strftime('%B %d, %Y')) # Datetime to string"
   ]
  },
  {
   "cell_type": "code",
   "execution_count": 51,
   "metadata": {},
   "outputs": [
    {
     "name": "stdout",
     "output_type": "stream",
     "text": [
      "2016-07-26 00:00:00\n"
     ]
    }
   ],
   "source": [
    "print(datetime.datetime.strptime('July 26, 2016', '%B %d, %Y')) # String to datetime"
   ]
  },
  {
   "cell_type": "markdown",
   "metadata": {},
   "source": [
    "# 4. random Module"
   ]
  },
  {
   "cell_type": "markdown",
   "metadata": {},
   "source": [
    "# 5. csv Module"
   ]
  },
  {
   "cell_type": "markdown",
   "metadata": {},
   "source": [
    "# 6. re Module"
   ]
  },
  {
   "cell_type": "code",
   "execution_count": null,
   "metadata": {},
   "outputs": [],
   "source": []
  }
 ],
 "metadata": {
  "kernelspec": {
   "display_name": "Python 3",
   "language": "python",
   "name": "python3"
  },
  "language_info": {
   "codemirror_mode": {
    "name": "ipython",
    "version": 3
   },
   "file_extension": ".py",
   "mimetype": "text/x-python",
   "name": "python",
   "nbconvert_exporter": "python",
   "pygments_lexer": "ipython3",
   "version": "3.6.8"
  }
 },
 "nbformat": 4,
 "nbformat_minor": 2
}
