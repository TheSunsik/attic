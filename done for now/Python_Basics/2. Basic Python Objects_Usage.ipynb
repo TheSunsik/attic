{
 "cells": [
  {
   "cell_type": "markdown",
   "metadata": {},
   "source": [
    "#### Reference\n",
    "<li><a href=https://www.youtube.com/user/schafer5>Corey Schafer YouTube Channel</a></li>\n",
    "<li><a href=https://www.inflearn.com/course/python-파이썬-입문-강좌/>inflearn course</a></li>\n",
    "\n",
    "#### Arranged By\n",
    "<li><a href=https://github.com/TheSunsik/>Sunsik Kim</a></li>"
   ]
  },
  {
   "cell_type": "markdown",
   "metadata": {},
   "source": [
    "앞서 개념들을 설명한 몇몇 객체들의, 정리해두면 쓸모있는 사용법에 대해 다룬다."
   ]
  },
  {
   "cell_type": "markdown",
   "metadata": {},
   "source": [
    "# 1. String"
   ]
  },
  {
   "cell_type": "markdown",
   "metadata": {},
   "source": [
    "## String Formatting"
   ]
  },
  {
   "cell_type": "markdown",
   "metadata": {},
   "source": [
    "입력값에 따라 자유자재로 정해진 형태의 새로운 string을 생성할 수 있는 방법이다. 크게 두 가지로 나눠볼 수 있다:"
   ]
  },
  {
   "cell_type": "markdown",
   "metadata": {},
   "source": [
    "### (1) format method"
   ]
  },
  {
   "cell_type": "markdown",
   "metadata": {},
   "source": [
    "어떤 string 객체 안에 {}을 포함시키면 이 중괄호는 placeholder라는 특별한 역할을 수행한다. 앞서 formatting의 의의가 입력값에 따라 string을 생성할 수 있는 것이라고 했는데, placeholder는 그 입력값이 들어갈 자리를 의미한다. 예를 들면:"
   ]
  },
  {
   "cell_type": "code",
   "execution_count": 9,
   "metadata": {},
   "outputs": [
    {
     "name": "stdout",
     "output_type": "stream",
     "text": [
      " Name : Michael, Age : 30 \n",
      " Name : Amy, Age : 26\n"
     ]
    }
   ],
   "source": [
    "str_format = \"Name : {}, Age : {}\"\n",
    "print(\"\",str_format.format('Michael', 30), \"\\n\",\n",
    "      str_format.format('Amy', 26))"
   ]
  },
  {
   "cell_type": "markdown",
   "metadata": {},
   "source": [
    "먼저 **placeholder에 어떤 것을 입력**해 놓을 수 있고 그랬을 때 어떤 효과를 얻을 수 있는지를 본다.<br><br>\n",
    "**index :** 어떤 placeholder에 몇 번째 input을 넣을지를 지정해줄 수 있다."
   ]
  },
  {
   "cell_type": "code",
   "execution_count": 20,
   "metadata": {},
   "outputs": [
    {
     "data": {
      "text/plain": [
       "'Python is my second Programming language.'"
      ]
     },
     "execution_count": 20,
     "metadata": {},
     "output_type": "execute_result"
    }
   ],
   "source": [
    "str_format = \"{0} is my second {2} language.\"\n",
    "str_format.format(\"Python\", \"R\", \"Programming\")"
   ]
  },
  {
   "cell_type": "markdown",
   "metadata": {},
   "source": [
    "위의 예시를 보면, 첫번째 placeholder에는 첫번째 입력값(Python)의 index인 0이 입력되었고 두번째 placeholder에는 세번째 입력값(Programming)의 index인 2가 입력되었다. 따라서 Python Programming이 생성된다."
   ]
  },
  {
   "cell_type": "markdown",
   "metadata": {},
   "source": [
    "index를 좀 더 활용하면 list, dictionary객체도 formatting의 입력값으로 활용할 수 있다."
   ]
  },
  {
   "cell_type": "code",
   "execution_count": 21,
   "metadata": {},
   "outputs": [
    {
     "data": {
      "text/plain": [
       "'R is my first Programming language.'"
      ]
     },
     "execution_count": 21,
     "metadata": {},
     "output_type": "execute_result"
    }
   ],
   "source": [
    "arbitrary_list = [\"Python\", \"R\", \"Programming\"]\n",
    "str_format = \"{0[1]} is my first {0[2]} language.\"\n",
    "# 각각 첫번째 입력값의 두번째 자료, 첫번째 입력값의 세번째 자료를 받게 되어 있다.\n",
    "str_format.format(arbitrary_list)\n",
    "# 첫번째 입력값이 list객체이므로 그 객체의 두번째, 세번째 자료가 입력된다."
   ]
  },
  {
   "cell_type": "markdown",
   "metadata": {},
   "source": [
    "**padding :** 자료를 입력할 경우 placeholder에 자리수를 지정해줄 수 있다. (최소 자리수)(.)(소수점 뒷 자리수)(객체 유형) 형태로 입력하면 된다(int는 default, float는 f, string은 s). 이때 자리수를 지정해주기 위해 입력한 숫자를 Python이 index와 헷갈리게 해서는 안 된다. 따라서 앞자리수 앞에 콜론(:)을 붙여 이 숫자가 index가 아님을 알려준다."
   ]
  },
  {
   "cell_type": "code",
   "execution_count": 101,
   "metadata": {},
   "outputs": [
    {
     "data": {
      "text/plain": [
       "' 3.142 is larger than  3.000'"
      ]
     },
     "execution_count": 101,
     "metadata": {},
     "output_type": "execute_result"
    }
   ],
   "source": [
    "str_format = \"{:6.3f} is larger than {:6.3f}\"\n",
    "str_format.format(3.141592, 3)\n",
    "# 최소 자리수를 6으로 설정하니 앞에 공백이 하나씩 붙은 것을 확인할 수 있는데, \n",
    "# 숫자 4개에 소수점 하나 해서 채운 5자리에서 남은 한 자리를 공백이 채운 것이다."
   ]
  },
  {
   "cell_type": "markdown",
   "metadata": {},
   "source": [
    "이때 placeholder 안의 값을 정렬할 수도 있다. <, >, ^는 placeholder 안에서 각각 왼쪽, 오른쪽, 가운데 정렬을 의미한다. 기본적으로 숫자는 오른쪽, 문자는 왼쪽 정렬된다."
   ]
  },
  {
   "cell_type": "code",
   "execution_count": 103,
   "metadata": {},
   "outputs": [
    {
     "data": {
      "text/plain": [
       "'3.142    is larger than  3.000  '"
      ]
     },
     "execution_count": 103,
     "metadata": {},
     "output_type": "execute_result"
    }
   ],
   "source": [
    "str_format = \"{:<8.3f} is larger than {:^8.3f}\"\n",
    "str_format.format(3.141592, 3)"
   ]
  },
  {
   "cell_type": "markdown",
   "metadata": {},
   "source": [
    "이때 정수 부분에 생기는 공백을 0으로는 대체할 수가 있다(이를 zero padding이라고 한다. 보통 어떤 식별자를 만들 때 0001, 0321 이런 식으로 앞자리에 0을 채운 숫자를 만들곤 하는데, 그럴 때 사용함). (0)(총 자리수)(.)(소수점 뒷 자리수)의 형태로 입력하면 된다."
   ]
  },
  {
   "cell_type": "code",
   "execution_count": 98,
   "metadata": {},
   "outputs": [
    {
     "data": {
      "text/plain": [
       "'Student 00221 enrolled to STA0056'"
      ]
     },
     "execution_count": 98,
     "metadata": {},
     "output_type": "execute_result"
    }
   ],
   "source": [
    "str_format = \"Student {:05} enrolled to STA{:04}\"\n",
    "str_format.format(221, 56)"
   ]
  },
  {
   "cell_type": "markdown",
   "metadata": {},
   "source": [
    "더 많은 형식은 역시 구글링을 참조하는 편이 낫다(ex. https://pyformat.info/)"
   ]
  },
  {
   "cell_type": "markdown",
   "metadata": {},
   "source": [
    "### (2) fstring"
   ]
  },
  {
   "cell_type": "markdown",
   "metadata": {},
   "source": [
    "format method를 사용한 formatting보다 직관적인 방법으로, f\"placeholder를 포함한 문자열\"의 형태로 사용한다. placeholder에 변수나 어떤 객체를 바로 넣을 수 있기 때문에 직관적이다. 또한, placeholder 안에서 변수에 대한 operation을 수행할 수 있고, 자리수 control도 문법이 약간 다르지만 가능하다."
   ]
  },
  {
   "cell_type": "code",
   "execution_count": 107,
   "metadata": {},
   "outputs": [
    {
     "data": {
      "text/plain": [
       "'His name is Michael and he is 30 years old'"
      ]
     },
     "execution_count": 107,
     "metadata": {},
     "output_type": "execute_result"
    }
   ],
   "source": [
    "name = \"Michael\"\n",
    "age = 30\n",
    "string = f\"His name is {name} and he is {age} years old\"\n",
    "string"
   ]
  },
  {
   "cell_type": "code",
   "execution_count": 119,
   "metadata": {},
   "outputs": [
    {
     "name": "stdout",
     "output_type": "stream",
     "text": [
      "MICHAEL is  50.0 years old\n",
      "GEORGE is  73.0 years old\n",
      "HILARY is  61.0 years old\n",
      "TERESA is  44.0 years old\n",
      "DONALD is  47.0 years old\n"
     ]
    }
   ],
   "source": [
    "house = {'name' : [\"Michael\", \"George\", \"Hilary\", \"Teresa\", \"Donald\"],\n",
    "            'age' : [50, 73, 61, 44, 47]}\n",
    "for i in range(5):\n",
    "    print(f\"{house['name'][i].upper()} is {house['age'][i] : .1f} years old\")"
   ]
  },
  {
   "cell_type": "code",
   "execution_count": 123,
   "metadata": {},
   "outputs": [
    {
     "name": "stdout",
     "output_type": "stream",
     "text": [
      "ID of bill is OEC020\n",
      "ID of steve is OEC031\n",
      "ID of larry is OEC128\n",
      "ID of mark is OEC006\n",
      "ID of jeff is OEC013\n"
     ]
    }
   ],
   "source": [
    "employee = {'name' : [\"Bill\", \"Steve\", \"Larry\", \"Mark\", \"Jeff\"],\n",
    "           'ID' : [20, 31, 128, 6, 13]}\n",
    "for i in range(5):\n",
    "    print(f\"ID of {employee['name'][i].lower()} is OEC{employee['ID'][i] :03}\")"
   ]
  },
  {
   "cell_type": "markdown",
   "metadata": {},
   "source": [
    "# 2. Container"
   ]
  },
  {
   "cell_type": "markdown",
   "metadata": {},
   "source": [
    "여러 개의 객체를 참조할 수 있는 객체를 container라고 한다. list, tuple, dictionary, set 등을 말한다. 이와 같은 객체들에 적용할 수 있는 기술들에 대해 다룬다."
   ]
  },
  {
   "cell_type": "markdown",
   "metadata": {},
   "source": [
    "## Unpacking"
   ]
  },
  {
   "cell_type": "markdown",
   "metadata": {},
   "source": [
    "한 객체로 담고 있거나 참조하고 있는 자료 각각을 자료 개수만큼의 변수 각각에 할당하는 방법이다. 무슨 말이냐면:"
   ]
  },
  {
   "cell_type": "code",
   "execution_count": 13,
   "metadata": {},
   "outputs": [
    {
     "name": "stdout",
     "output_type": "stream",
     "text": [
      "[1, 2] \n",
      " List can designate any type of object \n",
      " ('See?', 'I told you')\n"
     ]
    }
   ],
   "source": [
    "a1, a2, a3 = [[1, 2], \"List can designate any type of object\", (\"See?\", \"I told you\")]\n",
    "print(a1,\"\\n\",a2,\"\\n\",a3)"
   ]
  },
  {
   "cell_type": "code",
   "execution_count": 14,
   "metadata": {},
   "outputs": [
    {
     "name": "stdout",
     "output_type": "stream",
     "text": [
      "A C\n"
     ]
    }
   ],
   "source": [
    "b1, _, b2 = \"ABC\"\n",
    "# unpack하고 싶지 않은 자료에 대응하는 자리에는 _를 붙여주면 이를 건너뛰고 unpack한다.\n",
    "print(b1, b2)"
   ]
  },
  {
   "cell_type": "code",
   "execution_count": 8,
   "metadata": {},
   "outputs": [
    {
     "name": "stdout",
     "output_type": "stream",
     "text": [
      "5 25 125\n"
     ]
    }
   ],
   "source": [
    "a1, a2, a3 = (5 ** 1, 5 ** 2, 5 ** 3)\n",
    "print(a1, a2, a3)"
   ]
  },
  {
   "cell_type": "markdown",
   "metadata": {},
   "source": [
    "## Round trip: string and list"
   ]
  },
  {
   "cell_type": "markdown",
   "metadata": {},
   "source": [
    "\n",
    "1. join : list내 자료들 사이에 구분자를 넣어 하나의 string 객체로 합침<br>\n",
    "(i.e. **join : list → string**)\n",
    "1. split : 하나의 string 객체를 어떤 구분자를 기준으로 분리해 list로 합침<br>\n",
    "(i.e. **split : string → list**)"
   ]
  },
  {
   "cell_type": "code",
   "execution_count": 4,
   "metadata": {},
   "outputs": [
    {
     "data": {
      "text/plain": [
       "'What is your name'"
      ]
     },
     "execution_count": 4,
     "metadata": {},
     "output_type": "execute_result"
    }
   ],
   "source": [
    "list_object = ['What', 'is', 'your', 'name']\n",
    "string_object = ' '.join(list_object)\n",
    "string_object"
   ]
  },
  {
   "cell_type": "code",
   "execution_count": 6,
   "metadata": {},
   "outputs": [
    {
     "data": {
      "text/plain": [
       "['What', 'is', 'your', 'name']"
      ]
     },
     "execution_count": 6,
     "metadata": {},
     "output_type": "execute_result"
    }
   ],
   "source": [
    "list_object = string_object.split(' ')\n",
    "list_object"
   ]
  },
  {
   "cell_type": "markdown",
   "metadata": {},
   "source": [
    "## Comprehension"
   ]
  },
  {
   "cell_type": "markdown",
   "metadata": {},
   "source": [
    "일정한 규칙에 의해 container를 생성하고자 할 때 사용할 수 있는 방법이다. 여러 괄호 안에 어떤 코드를 포함시킴으로써 container객체를 짧은 코드만으로 생성할 수 있다."
   ]
  },
  {
   "cell_type": "code",
   "execution_count": 1,
   "metadata": {},
   "outputs": [
    {
     "data": {
      "text/plain": [
       "(0, 1, 2, 3, 4)"
      ]
     },
     "execution_count": 1,
     "metadata": {},
     "output_type": "execute_result"
    }
   ],
   "source": [
    "tuple(i for i in range(5)) \n",
    "# tuple만은 괄호 앞에 tuple을 붙여줘야 comprehension이 가능. \n",
    "# tuple이 없으면 아래에서 설명하는 generator이기 때문."
   ]
  },
  {
   "cell_type": "code",
   "execution_count": 16,
   "metadata": {},
   "outputs": [
    {
     "data": {
      "text/plain": [
       "{1, 3, 5, 7, 9}"
      ]
     },
     "execution_count": 16,
     "metadata": {},
     "output_type": "execute_result"
    }
   ],
   "source": [
    "{i for i in [1,1,2,1,3,4,3,4,5,5,6,7,8,7,9,9] if i % 2 != 0}"
   ]
  },
  {
   "cell_type": "code",
   "execution_count": 8,
   "metadata": {},
   "outputs": [
    {
     "data": {
      "text/plain": [
       "[('A', '2'), ('A', '3'), ('B', '2'), ('B', '3'), ('C', '2'), ('C', '3')]"
      ]
     },
     "execution_count": 8,
     "metadata": {},
     "output_type": "execute_result"
    }
   ],
   "source": [
    "[(i, j) for i in \"ABC\" for j in \"234\" if j != '4']"
   ]
  },
  {
   "cell_type": "code",
   "execution_count": 13,
   "metadata": {},
   "outputs": [
    {
     "data": {
      "text/plain": [
       "['a-1', 'a-2', 'a-3', 'b-1', 'b-2', 'b-3', 'c-1', 'c-2', 'c-3']"
      ]
     },
     "execution_count": 13,
     "metadata": {},
     "output_type": "execute_result"
    }
   ],
   "source": [
    "[\"-\".join([i, j]) for i in \"abc\" for j in \"123\"]"
   ]
  },
  {
   "cell_type": "code",
   "execution_count": 12,
   "metadata": {},
   "outputs": [
    {
     "data": {
      "text/plain": [
       "[['WHAT', 'what', 4],\n",
       " ['IS', 'is', 2],\n",
       " ['YOUR', 'your', 4],\n",
       " ['NAME', 'name', 4]]"
      ]
     },
     "execution_count": 12,
     "metadata": {},
     "output_type": "execute_result"
    }
   ],
   "source": [
    "[[word.upper(), word.lower(), len(word)] for word in list_object]"
   ]
  },
  {
   "cell_type": "markdown",
   "metadata": {},
   "source": [
    "## Enumerate"
   ]
  },
  {
   "cell_type": "markdown",
   "metadata": {},
   "source": [
    "sequence형 객체의 자료 각각에 index를 붙여 형성한 쌍(tuple)들의 집합을 enumerate라고 한다. "
   ]
  },
  {
   "cell_type": "code",
   "execution_count": 23,
   "metadata": {},
   "outputs": [
    {
     "name": "stdout",
     "output_type": "stream",
     "text": [
      "<class 'enumerate'> <enumerate object at 0x000001DAE3AF44C8>\n"
     ]
    }
   ],
   "source": [
    "print(type(enumerate(list_object)), enumerate(list_object))"
   ]
  },
  {
   "cell_type": "markdown",
   "metadata": {},
   "source": [
    "위 코드를 통해 enumerate 자체는 그냥 주소값만을 담고 있는 객체임을 알 수 있다. 이를 어떤 객체로 감싸줘야 비로소 enumerate 객체의 자료들을 확인해 볼 수 있다."
   ]
  },
  {
   "cell_type": "code",
   "execution_count": 20,
   "metadata": {},
   "outputs": [
    {
     "data": {
      "text/plain": [
       "[(0, 'What'), (1, 'is'), (2, 'your'), (3, 'name')]"
      ]
     },
     "execution_count": 20,
     "metadata": {},
     "output_type": "execute_result"
    }
   ],
   "source": [
    "list(enumerate(list_object))"
   ]
  },
  {
   "cell_type": "code",
   "execution_count": 19,
   "metadata": {},
   "outputs": [
    {
     "data": {
      "text/plain": [
       "[(0, 'W'), (1, 'h'), (2, 'a'), (3, 't'), (4, ' '), (5, 'i')]"
      ]
     },
     "execution_count": 19,
     "metadata": {},
     "output_type": "execute_result"
    }
   ],
   "source": [
    "list(enumerate(string_object))[:6]"
   ]
  },
  {
   "cell_type": "code",
   "execution_count": 25,
   "metadata": {},
   "outputs": [
    {
     "data": {
      "text/plain": [
       "{0: 'What', 1: 'is', 2: 'your', 3: 'name'}"
      ]
     },
     "execution_count": 25,
     "metadata": {},
     "output_type": "execute_result"
    }
   ],
   "source": [
    "{index:value for index, value in enumerate(list_object)}"
   ]
  },
  {
   "cell_type": "markdown",
   "metadata": {},
   "source": [
    "## Zip"
   ]
  },
  {
   "cell_type": "markdown",
   "metadata": {},
   "source": [
    "여러 개의 sequence형 객체들의 자료를 순서대로 병렬적으로 묶어 형성한 tuple들의 집합을 zip이라고 한다."
   ]
  },
  {
   "cell_type": "code",
   "execution_count": 1,
   "metadata": {},
   "outputs": [
    {
     "name": "stdout",
     "output_type": "stream",
     "text": [
      "<class 'zip'> <zip object at 0x000001556A77C508>\n"
     ]
    }
   ],
   "source": [
    "print(type(zip((1,2,3), (10,20,30), (100,200,300))), \n",
    "      zip((1,2,3), (10,20,30), (100,200,300)))"
   ]
  },
  {
   "cell_type": "markdown",
   "metadata": {},
   "source": [
    "enumerate와 마찬가지로 zip자체는 그냥 주소값만을 담고 있는 객체이므로 이를 어떤 객체로 감싸줘야 비로소 zip 객체의 자료들을 확인해 볼 수 있다. 모든 객체들의 길이가 같지 않다면 zip은 길이가 가장 짧은 객체를 기준으로 tuple을 생성한다."
   ]
  },
  {
   "cell_type": "code",
   "execution_count": 31,
   "metadata": {},
   "outputs": [
    {
     "data": {
      "text/plain": [
       "[(1, 10, 100), (2, 20, 200), (3, 30, 300)]"
      ]
     },
     "execution_count": 31,
     "metadata": {},
     "output_type": "execute_result"
    }
   ],
   "source": [
    "list(zip((1,2,3), (10,20,30,40,50), (100,200,300,400))) \n",
    "# 길이가 제일 짧은 (1,2,3)을 기준으로 zip객체 생성"
   ]
  },
  {
   "cell_type": "code",
   "execution_count": 32,
   "metadata": {},
   "outputs": [
    {
     "data": {
      "text/plain": [
       "[111, 222, 333]"
      ]
     },
     "execution_count": 32,
     "metadata": {},
     "output_type": "execute_result"
    }
   ],
   "source": [
    "[sum(i) for i in zip([1,2,3], [10,20,30,40,50], [100,200,300,400])]"
   ]
  },
  {
   "cell_type": "code",
   "execution_count": 3,
   "metadata": {},
   "outputs": [
    {
     "data": {
      "text/plain": [
       "{'Clark': 'Superman',\n",
       " 'Peter': 'Spiderman',\n",
       " 'Logan': 'Wolverine',\n",
       " 'Wade': 'Deadpool'}"
      ]
     },
     "execution_count": 3,
     "metadata": {},
     "output_type": "execute_result"
    }
   ],
   "source": [
    "names = ['Bruce', 'Clark', 'Peter', 'Logan', 'Wade']\n",
    "heros = ['Batman', 'Superman', 'Spiderman', 'Wolverine', 'Deadpool']\n",
    "{name:hero for name, hero in zip(names, heros) if name != 'Bruce'}"
   ]
  },
  {
   "cell_type": "code",
   "execution_count": 4,
   "metadata": {},
   "outputs": [
    {
     "data": {
      "text/plain": [
       "[('Clark', 'Superman'),\n",
       " ('Peter', 'Spiderman'),\n",
       " ('Logan', 'Wolverine'),\n",
       " ('Wade', 'Deadpool')]"
      ]
     },
     "execution_count": 4,
     "metadata": {},
     "output_type": "execute_result"
    }
   ],
   "source": [
    "[(name, hero) for name, hero in zip(names, heros) if name != 'Bruce']"
   ]
  },
  {
   "cell_type": "markdown",
   "metadata": {},
   "source": [
    "## Map"
   ]
  },
  {
   "cell_type": "markdown",
   "metadata": {},
   "source": [
    "sequence 객체의 자료들 각각에 어떤 함수를 일괄 적용할 때 사용한다. map객체 또한 주소값만을 담고 있는 객체이므로 역시 list등으로 감싸줘야 한다. map(function, variable)순으로 argument를 입력한다."
   ]
  },
  {
   "cell_type": "code",
   "execution_count": 18,
   "metadata": {},
   "outputs": [
    {
     "data": {
      "text/plain": [
       "[25, 4, 81, 49, 9]"
      ]
     },
     "execution_count": 18,
     "metadata": {},
     "output_type": "execute_result"
    }
   ],
   "source": [
    "numbers = [5 ,2, 9, 7, 3]\n",
    "def exponent(x):\n",
    "    return(x ** 2)\n",
    "list(map(exponent, numbers))"
   ]
  },
  {
   "cell_type": "markdown",
   "metadata": {},
   "source": [
    "하지만 위와 같이 일일이 함수를 선언하다 보면 코드가 길어질 수 있다. 이럴 때 **lambda함수**(선언하지 않고 사용하는 함수)를 사용한다."
   ]
  },
  {
   "cell_type": "code",
   "execution_count": 19,
   "metadata": {},
   "outputs": [
    {
     "data": {
      "text/plain": [
       "[25, 4, 81, 49, 9]"
      ]
     },
     "execution_count": 19,
     "metadata": {},
     "output_type": "execute_result"
    }
   ],
   "source": [
    "list(map(lambda x: x ** 2, numbers))"
   ]
  },
  {
   "cell_type": "markdown",
   "metadata": {},
   "source": [
    "하지만 comprehension을 사용하는 게 더 편할 수도 있다. 결론은 comprehension 짱"
   ]
  },
  {
   "cell_type": "code",
   "execution_count": 20,
   "metadata": {},
   "outputs": [
    {
     "data": {
      "text/plain": [
       "[25, 4, 81, 49, 9]"
      ]
     },
     "execution_count": 20,
     "metadata": {},
     "output_type": "execute_result"
    }
   ],
   "source": [
    "[i ** 2 for i in numbers]"
   ]
  },
  {
   "cell_type": "markdown",
   "metadata": {},
   "source": [
    "## Sorting"
   ]
  },
  {
   "cell_type": "markdown",
   "metadata": {},
   "source": [
    "list는 sort method가 있지만, 대부분의 다른 sequence 객체들은 그렇지 않다. 이때 유용한 것이 sorted함수다. **Python Tutorial: Sorting Lists, Tuples, and Objects 보고 채워야됨**"
   ]
  },
  {
   "cell_type": "markdown",
   "metadata": {},
   "source": [
    "## Generator"
   ]
  },
  {
   "cell_type": "markdown",
   "metadata": {},
   "source": [
    "어떤 연산에 의해 대용량의 자료를 담은 객체를 생성할 때 list보다 우월한 객체다. 이 객체는 대용량의 자료를 한번에 생성한 후 직접 담는 것이 아니라서 소요 시간이나 메모리 사용 측면에서 우월하다. yield 키워드를 통해 함수를 통해 만들거나, 위에서 언급했듯 괄호에 씌운 comprehension 표현으로 이를 생성한다."
   ]
  },
  {
   "cell_type": "markdown",
   "metadata": {},
   "source": [
    "# 3. Asterisk(\\*)"
   ]
  },
  {
   "cell_type": "markdown",
   "metadata": {},
   "source": [
    "\\* 기호는 Python에서 tuple내 자료를 unpacking하는 용도로 사용되기도 한다. 먼저, 함수를 만들 때 몇 개의 argument가 들어올지를 정확히 정하고 싶지 않을 때가 있는데, 이럴 때 가변인자 개념을 사용한다. 이때 그냥 값을 넣으면 tuple형태로, 변수의 이름을 지정해서 값을 넣으면 dictionary형태로 입력되게 된다."
   ]
  },
  {
   "cell_type": "code",
   "execution_count": 18,
   "metadata": {},
   "outputs": [
    {
     "name": "stdout",
     "output_type": "stream",
     "text": [
      "1 (2, 3, 4)\n"
     ]
    }
   ],
   "source": [
    "def variable_factor(a, *args):\n",
    "    print(a, args)\n",
    "variable_factor(1, 2, 3, 4)\n",
    "# 현재 a는 1이고 2,3,4는 가변인자로써 variable_factor의 argument가 되었다.\n",
    "# 즉, 변수의 이름을 지정해서 넣지 않고 그냥 넣었기 때문에 tuple형태로 입력돼고,\n",
    "# 따라서 아래와 같은 결과를 얻는다."
   ]
  },
  {
   "cell_type": "code",
   "execution_count": 19,
   "metadata": {},
   "outputs": [
    {
     "name": "stdout",
     "output_type": "stream",
     "text": [
      "1 (2, 3, 4) {'five': 5, 'six': 6}\n"
     ]
    }
   ],
   "source": [
    "def variable_factor(a, *args, **kargs):\n",
    "    print(a, args, kargs)\n",
    "variable_factor(1, 2, 3, 4,five = 5, six = 6)\n",
    "# 1,2,3,4까지는 위와 같고,\n",
    "# 5와 6을 이름을 각각 five, six로 지정해서 넣었기 때문에 dictionary형태로 입력된다.\n",
    "# 따라서 아래와 같은 결과를 얻는다."
   ]
  },
  {
   "cell_type": "markdown",
   "metadata": {},
   "source": [
    "asterisk를 통해 tuple과 dictionary를 unpacking한다는 것은 이런 것이다:"
   ]
  },
  {
   "cell_type": "code",
   "execution_count": 27,
   "metadata": {},
   "outputs": [
    {
     "data": {
      "text/plain": [
       "[1, 2, 3, 4]"
      ]
     },
     "execution_count": 27,
     "metadata": {},
     "output_type": "execute_result"
    }
   ],
   "source": [
    "def variable_factor(a, *args):\n",
    "    global argument_list\n",
    "    # argument_list를 global_environment에 정의함\n",
    "    argument_list = [a, *args]\n",
    "    # tuple로 들어온 args를 *로 unpack해서 a와 함께 list로 만듬\n",
    "variable_factor(1, 2, 3, 4)\n",
    "argument_list\n",
    "# (2, 3, 4)가 unpack되어서 1과 함께 list가 되었으므로 아래와 같은 결과를 얻음"
   ]
  },
  {
   "cell_type": "markdown",
   "metadata": {},
   "source": [
    "참고로, variable_factor(a, \\*args)에서 <b>a를 parameter</b>라고 하고, 여기에 어떤 구체적인 값을 입력하면(ex. variable_factor(1, 2, 3, 4)) 그 <b>값(1)을 argument</b>라고 한다.<br>\n",
    "또한 포인터가 def를 만나면 그걸 당장 실행하는 게 아니고, def 바로 옆에 있는 변수를(여기선 함수 이름) 메모리의 어떤 공간에 올린다. 그래서 추후에 함수가 실제로 사용될 때, (입력된 argument가 있다면 그 값과 함께) 그 공간에 찾아가 마침내 실행하게 된다."
   ]
  }
 ],
 "metadata": {
  "kernelspec": {
   "display_name": "Python 3",
   "language": "python",
   "name": "python3"
  },
  "language_info": {
   "codemirror_mode": {
    "name": "ipython",
    "version": 3
   },
   "file_extension": ".py",
   "mimetype": "text/x-python",
   "name": "python",
   "nbconvert_exporter": "python",
   "pygments_lexer": "ipython3",
   "version": "3.6.8"
  }
 },
 "nbformat": 4,
 "nbformat_minor": 2
}
