{
 "cells": [
  {
   "cell_type": "markdown",
   "metadata": {},
   "source": [
    "#### Reference\n",
    "<li><a href=https://www.youtube.com/user/schafer5>Corey Schafer YouTube Channel</a></li>\n",
    "<li><a href=https://www.inflearn.com/course/python-파이썬-입문-강좌/>inflearn course</a></li>\n",
    "\n",
    "#### Arranged By\n",
    "<li><a href=https://github.com/TheSunsik/wrapups/tree/master/Python/Basics>sunsik kim</a></li>"
   ]
  },
  {
   "cell_type": "markdown",
   "metadata": {},
   "source": [
    "# try-except block"
   ]
  },
  {
   "cell_type": "markdown",
   "metadata": {},
   "source": [
    "`try-except`는 쉽게 말하면 \"이거 해보고(try) 이런 에러나면(except) 이거 해\"를 의미하는 구문이다. 보통 Error가 발생하면 process 실행이 중단되는데, 이 구문 덕분에 예상할 수 있는 Error가 process를 중단시키는 것을 막을 수 있다. 아래 코드는 for loop 안에서 100 / i를 실행하는데 `ZeroDivisionError`가 발생하면 정해진 문장을 print하고 loop을 중단시킨다."
   ]
  },
  {
   "cell_type": "code",
   "execution_count": 1,
   "metadata": {},
   "outputs": [
    {
     "name": "stdout",
     "output_type": "stream",
     "text": [
      "for loop completed since index equals 0\n"
     ]
    }
   ],
   "source": [
    "for i in range(10, -10, -1):\n",
    "    try:\n",
    "        100 / i\n",
    "    except ZeroDivisionError:\n",
    "        print(f\"for loop completed since index equals {i}\")\n",
    "        break"
   ]
  },
  {
   "cell_type": "markdown",
   "metadata": {},
   "source": [
    "## (1) pass"
   ]
  },
  {
   "cell_type": "markdown",
   "metadata": {},
   "source": [
    "Error가 발생했을 때 뭔가를 하지 않고 그냥 넘기고만 싶다면 `pass` 키워드를 사용해 주면 된다. 아래 코드에서 또 알 수 있는 것은 `try` 부분에서 지정된 Error가 발생하면 바로 `except` 부분으로 넘어간다는 것이다(아래 코드에선 그 때문에 0은 result에 추가되지 않는다)."
   ]
  },
  {
   "cell_type": "code",
   "execution_count": 2,
   "metadata": {},
   "outputs": [
    {
     "data": {
      "text/plain": [
       "[3, 2, 1, -1, -2]"
      ]
     },
     "execution_count": 2,
     "metadata": {},
     "output_type": "execute_result"
    }
   ],
   "source": [
    "result = []\n",
    "for i in range(3, -3, -1):\n",
    "    try:\n",
    "        100 / i\n",
    "        result.append(i)\n",
    "    except ZeroDivisionError:\n",
    "        pass\n",
    "result"
   ]
  },
  {
   "cell_type": "markdown",
   "metadata": {},
   "source": [
    "그렇다면 `continue`와의 차이는 무엇일지 궁금할 수 있는데, `pass`는 진짜 그냥 아무것도 안하는 키워드인 반면, `continue`는 아무것도 안하는 것처럼 보이지만 loop을 다음 차례로 넘기는 키워드라는 차이가 있다."
   ]
  },
  {
   "cell_type": "code",
   "execution_count": 3,
   "metadata": {},
   "outputs": [
    {
     "data": {
      "text/plain": [
       "[0, 1, 2, 3, 4, 5, 6, 7, 8, 9]"
      ]
     },
     "execution_count": 3,
     "metadata": {},
     "output_type": "execute_result"
    }
   ],
   "source": [
    "result = []\n",
    "for i in range(10):\n",
    "    if i % 2 == 0:\n",
    "        pass\n",
    "    result.append(i)\n",
    "result"
   ]
  },
  {
   "cell_type": "code",
   "execution_count": 4,
   "metadata": {},
   "outputs": [
    {
     "data": {
      "text/plain": [
       "[1, 3, 5, 7, 9]"
      ]
     },
     "execution_count": 4,
     "metadata": {},
     "output_type": "execute_result"
    }
   ],
   "source": [
    "result = []\n",
    "for i in range(10):\n",
    "    if i % 2 == 0:\n",
    "        continue\n",
    "    result.append(i)\n",
    "result"
   ]
  },
  {
   "cell_type": "markdown",
   "metadata": {},
   "source": [
    "## (2) else"
   ]
  },
  {
   "cell_type": "markdown",
   "metadata": {},
   "source": [
    "`try-except` 구문에서도 `else`를 활용할 수가 있다. \"이거 해보고(`try`) 에러 나면 A(`except`), 안나면 B해라(`else`)\"를 전달하는 용도로 쓸 수 있다(사실 try 부분에 넣으면 되는거라 굳이 있어야 할 이유는 아직 모르겠음)."
   ]
  },
  {
   "cell_type": "code",
   "execution_count": 5,
   "metadata": {},
   "outputs": [
    {
     "data": {
      "text/plain": [
       "[100, 100, 100, 0, 100, 100]"
      ]
     },
     "execution_count": 5,
     "metadata": {},
     "output_type": "execute_result"
    }
   ],
   "source": [
    "result = []\n",
    "for i in range(3, -3, -1):\n",
    "    try:\n",
    "        100 / i\n",
    "    except ZeroDivisionError:\n",
    "        result.append(i)\n",
    "    else:\n",
    "        result.append(100)\n",
    "result"
   ]
  },
  {
   "cell_type": "markdown",
   "metadata": {},
   "source": [
    "## (3) finally"
   ]
  },
  {
   "cell_type": "markdown",
   "metadata": {},
   "source": [
    "Error 발생 여부와 상관없이 실행되어야 할 코드를 입력할 수 있는 부분이다:"
   ]
  },
  {
   "cell_type": "code",
   "execution_count": 6,
   "metadata": {},
   "outputs": [
    {
     "data": {
      "text/plain": [
       "[100, 100, 100, 0, 100, 100, 100]"
      ]
     },
     "execution_count": 6,
     "metadata": {},
     "output_type": "execute_result"
    }
   ],
   "source": [
    "result = []\n",
    "for i in range(3, -3, -1):\n",
    "    try:\n",
    "        100 / i\n",
    "    except ZeroDivisionError:\n",
    "        result.append(i)\n",
    "    finally:\n",
    "        result.append(100)\n",
    "result"
   ]
  },
  {
   "cell_type": "markdown",
   "metadata": {},
   "source": [
    "# Raise, Assert Exception"
   ]
  },
  {
   "cell_type": "markdown",
   "metadata": {},
   "source": [
    "`raise`는 **어떤 조건을 만족하면 지정된 Error를 발생**시키는 구문이고, `assert`는 **어떤 조건을 만족하지 않으면 AssertionError를 발생**시키는 구문이다. Error 메세지를 출력하는 방법은 각각 다르다. 아래의 예시를 확인:"
   ]
  },
  {
   "cell_type": "code",
   "execution_count": 7,
   "metadata": {},
   "outputs": [
    {
     "ename": "ZeroDivisionError",
     "evalue": "As we can see, we can raise any type of error we want to raise",
     "output_type": "error",
     "traceback": [
      "\u001b[1;31m---------------------------------------------------------------------------\u001b[0m",
      "\u001b[1;31mZeroDivisionError\u001b[0m                         Traceback (most recent call last)",
      "\u001b[1;32m<ipython-input-7-8460c0d8f2e5>\u001b[0m in \u001b[0;36m<module>\u001b[1;34m\u001b[0m\n\u001b[0;32m      2\u001b[0m     \u001b[1;32mif\u001b[0m \u001b[0minputnum\u001b[0m \u001b[1;33m==\u001b[0m \u001b[1;36m1\u001b[0m\u001b[1;33m:\u001b[0m\u001b[1;33m\u001b[0m\u001b[1;33m\u001b[0m\u001b[0m\n\u001b[0;32m      3\u001b[0m         \u001b[1;32mraise\u001b[0m \u001b[0mZeroDivisionError\u001b[0m\u001b[1;33m(\u001b[0m\u001b[1;34m\"As we can see, we can raise any type of error we want to raise\"\u001b[0m\u001b[1;33m)\u001b[0m\u001b[1;33m\u001b[0m\u001b[1;33m\u001b[0m\u001b[0m\n\u001b[1;32m----> 4\u001b[1;33m \u001b[0mraiseErrorifone\u001b[0m\u001b[1;33m(\u001b[0m\u001b[1;36m1\u001b[0m\u001b[1;33m)\u001b[0m\u001b[1;33m\u001b[0m\u001b[1;33m\u001b[0m\u001b[0m\n\u001b[0m",
      "\u001b[1;32m<ipython-input-7-8460c0d8f2e5>\u001b[0m in \u001b[0;36mraiseErrorifone\u001b[1;34m(inputnum)\u001b[0m\n\u001b[0;32m      1\u001b[0m \u001b[1;32mdef\u001b[0m \u001b[0mraiseErrorifone\u001b[0m\u001b[1;33m(\u001b[0m\u001b[0minputnum\u001b[0m\u001b[1;33m)\u001b[0m\u001b[1;33m:\u001b[0m\u001b[1;33m\u001b[0m\u001b[1;33m\u001b[0m\u001b[0m\n\u001b[0;32m      2\u001b[0m     \u001b[1;32mif\u001b[0m \u001b[0minputnum\u001b[0m \u001b[1;33m==\u001b[0m \u001b[1;36m1\u001b[0m\u001b[1;33m:\u001b[0m\u001b[1;33m\u001b[0m\u001b[1;33m\u001b[0m\u001b[0m\n\u001b[1;32m----> 3\u001b[1;33m         \u001b[1;32mraise\u001b[0m \u001b[0mZeroDivisionError\u001b[0m\u001b[1;33m(\u001b[0m\u001b[1;34m\"As we can see, we can raise any type of error we want to raise\"\u001b[0m\u001b[1;33m)\u001b[0m\u001b[1;33m\u001b[0m\u001b[1;33m\u001b[0m\u001b[0m\n\u001b[0m\u001b[0;32m      4\u001b[0m \u001b[0mraiseErrorifone\u001b[0m\u001b[1;33m(\u001b[0m\u001b[1;36m1\u001b[0m\u001b[1;33m)\u001b[0m\u001b[1;33m\u001b[0m\u001b[1;33m\u001b[0m\u001b[0m\n",
      "\u001b[1;31mZeroDivisionError\u001b[0m: As we can see, we can raise any type of error we want to raise"
     ]
    }
   ],
   "source": [
    "def raiseErrorifone(inputnum):\n",
    "    if inputnum == 1:\n",
    "        raise ZeroDivisionError(\"As we can see, we can raise any type of error we want to raise\")\n",
    "raiseErrorifone(1)"
   ]
  },
  {
   "cell_type": "code",
   "execution_count": 8,
   "metadata": {},
   "outputs": [
    {
     "ename": "AssertionError",
     "evalue": "Error occurs since input is not numeric",
     "output_type": "error",
     "traceback": [
      "\u001b[1;31m---------------------------------------------------------------------------\u001b[0m",
      "\u001b[1;31mAssertionError\u001b[0m                            Traceback (most recent call last)",
      "\u001b[1;32m<ipython-input-8-380a2e50fd9e>\u001b[0m in \u001b[0;36m<module>\u001b[1;34m\u001b[0m\n\u001b[0;32m      1\u001b[0m \u001b[1;32mdef\u001b[0m \u001b[0massertError_if_not_numeric\u001b[0m\u001b[1;33m(\u001b[0m\u001b[0minputnum\u001b[0m\u001b[1;33m)\u001b[0m\u001b[1;33m:\u001b[0m\u001b[1;33m\u001b[0m\u001b[1;33m\u001b[0m\u001b[0m\n\u001b[0;32m      2\u001b[0m     \u001b[1;32massert\u001b[0m \u001b[0minputnum\u001b[0m\u001b[1;33m.\u001b[0m\u001b[0misnumeric\u001b[0m\u001b[1;33m(\u001b[0m\u001b[1;33m)\u001b[0m\u001b[1;33m,\u001b[0m \u001b[1;34m\"Error occurs since input is not numeric\"\u001b[0m\u001b[1;33m\u001b[0m\u001b[1;33m\u001b[0m\u001b[0m\n\u001b[1;32m----> 3\u001b[1;33m \u001b[0massertError_if_not_numeric\u001b[0m\u001b[1;33m(\u001b[0m\u001b[1;34m\"I am string\"\u001b[0m\u001b[1;33m)\u001b[0m\u001b[1;33m\u001b[0m\u001b[1;33m\u001b[0m\u001b[0m\n\u001b[0m",
      "\u001b[1;32m<ipython-input-8-380a2e50fd9e>\u001b[0m in \u001b[0;36massertError_if_not_numeric\u001b[1;34m(inputnum)\u001b[0m\n\u001b[0;32m      1\u001b[0m \u001b[1;32mdef\u001b[0m \u001b[0massertError_if_not_numeric\u001b[0m\u001b[1;33m(\u001b[0m\u001b[0minputnum\u001b[0m\u001b[1;33m)\u001b[0m\u001b[1;33m:\u001b[0m\u001b[1;33m\u001b[0m\u001b[1;33m\u001b[0m\u001b[0m\n\u001b[1;32m----> 2\u001b[1;33m     \u001b[1;32massert\u001b[0m \u001b[0minputnum\u001b[0m\u001b[1;33m.\u001b[0m\u001b[0misnumeric\u001b[0m\u001b[1;33m(\u001b[0m\u001b[1;33m)\u001b[0m\u001b[1;33m,\u001b[0m \u001b[1;34m\"Error occurs since input is not numeric\"\u001b[0m\u001b[1;33m\u001b[0m\u001b[1;33m\u001b[0m\u001b[0m\n\u001b[0m\u001b[0;32m      3\u001b[0m \u001b[0massertError_if_not_numeric\u001b[0m\u001b[1;33m(\u001b[0m\u001b[1;34m\"I am string\"\u001b[0m\u001b[1;33m)\u001b[0m\u001b[1;33m\u001b[0m\u001b[1;33m\u001b[0m\u001b[0m\n",
      "\u001b[1;31mAssertionError\u001b[0m: Error occurs since input is not numeric"
     ]
    }
   ],
   "source": [
    "def assertError_if_not_numeric(inputnum):\n",
    "    assert inputnum.isnumeric(), \"Error occurs since input is not numeric\"\n",
    "assertError_if_not_numeric(\"I am string\")"
   ]
  }
 ],
 "metadata": {
  "kernelspec": {
   "display_name": "Python 3",
   "language": "python",
   "name": "python3"
  },
  "language_info": {
   "codemirror_mode": {
    "name": "ipython",
    "version": 3
   },
   "file_extension": ".py",
   "mimetype": "text/x-python",
   "name": "python",
   "nbconvert_exporter": "python",
   "pygments_lexer": "ipython3",
   "version": "3.6.8"
  }
 },
 "nbformat": 4,
 "nbformat_minor": 2
}
