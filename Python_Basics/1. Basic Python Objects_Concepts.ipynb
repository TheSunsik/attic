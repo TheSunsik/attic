{
 "cells": [
  {
   "cell_type": "markdown",
   "metadata": {},
   "source": [
    "#### Reference\n",
    "- <a href=https://www.youtube.com/user/schafer5>Corey Schafer YouTube Channel</a>\n",
    "- <a href=https://www.inflearn.com/course/python-파이썬-입문-강좌/>inflearn course</a>\n",
    "\n",
    "#### Arranged By\n",
    "- <a href=https://github.com/thesunsik>Sunsik Kim</a>"
   ]
  },
  {
   "cell_type": "markdown",
   "metadata": {},
   "source": [
    "# 1. Numeric"
   ]
  },
  {
   "cell_type": "markdown",
   "metadata": {},
   "source": [
    "숫자형 객체에는 `int`, `float`이 있고, 각각 정수형과 실수형 자료를 담는다. 다음과 같은 연산자들을 활용해 이 객체들에 대한 연산을 수행할 수 있다:"
   ]
  },
  {
   "cell_type": "markdown",
   "metadata": {},
   "source": [
    "<li>가감승제 : +, -, *, /</li>\n",
    "<li>몫, 나머지 : //, %</li>\n",
    "<li>제곱 : **</li>"
   ]
  },
  {
   "cell_type": "markdown",
   "metadata": {},
   "source": [
    "## Increment"
   ]
  },
  {
   "cell_type": "markdown",
   "metadata": {},
   "source": [
    "변수의 값에 위와 같은 연산을 수행한 후 바로 그 값을 같은 변수에 할당하는 일이 종종 생기는데, increment를 이용해 이를 간단히 수행할 수 있다. 아래의 예시 참조."
   ]
  },
  {
   "cell_type": "code",
   "execution_count": 1,
   "metadata": {},
   "outputs": [
    {
     "name": "stdout",
     "output_type": "stream",
     "text": [
      "0.5\n",
      "0.25\n"
     ]
    }
   ],
   "source": [
    "a = 1    # 1이라는 객체를 a라는 변수에 할당\n",
    "a /= 2   # a = a / 2\n",
    "print(a)\n",
    "a **= 2  # a = a ** 2\n",
    "print(a)"
   ]
  },
  {
   "cell_type": "markdown",
   "metadata": {},
   "source": [
    "## Built-in functions"
   ]
  },
  {
   "cell_type": "markdown",
   "metadata": {},
   "source": [
    "기본적으로 `round`, `abs`함수가 마련되어 있다."
   ]
  },
  {
   "cell_type": "code",
   "execution_count": 2,
   "metadata": {},
   "outputs": [
    {
     "name": "stdout",
     "output_type": "stream",
     "text": [
      " round : 3 \n",
      " abs   : 2.71828\n"
     ]
    }
   ],
   "source": [
    "print(' round :', round(2.71828), \"\\n\", 'abs   :', abs(-2.71828))"
   ]
  },
  {
   "cell_type": "markdown",
   "metadata": {},
   "source": [
    "또한, 어떤 객체든 간에 `type`함수를 사용해 한 변수가 가리키는 객체의 type을 확인할 수 있다.<br>\n",
    "앞서 a 변수에 최종적으로 0.25라는 객체가 할당됐다. 즉, a의 객체의 type은 현재 실수(float)다."
   ]
  },
  {
   "cell_type": "code",
   "execution_count": 3,
   "metadata": {},
   "outputs": [
    {
     "data": {
      "text/plain": [
       "float"
      ]
     },
     "execution_count": 3,
     "metadata": {},
     "output_type": "execute_result"
    }
   ],
   "source": [
    "type(a)"
   ]
  },
  {
   "cell_type": "markdown",
   "metadata": {},
   "source": [
    "## Casting"
   ]
  },
  {
   "cell_type": "markdown",
   "metadata": {},
   "source": [
    "한 변수가 가리키는 객체의 유형을 바꾸는 것을 말한다. <br>\n",
    "`float` → `int`의 경우, 값이 반올림되지 않고 내림처리된다."
   ]
  },
  {
   "cell_type": "code",
   "execution_count": 4,
   "metadata": {},
   "outputs": [
    {
     "data": {
      "text/plain": [
       "2"
      ]
     },
     "execution_count": 4,
     "metadata": {},
     "output_type": "execute_result"
    }
   ],
   "source": [
    "int(2.71828) # 2.71828이 내림처리 됨"
   ]
  },
  {
   "cell_type": "code",
   "execution_count": 5,
   "metadata": {},
   "outputs": [
    {
     "data": {
      "text/plain": [
       "2.0"
      ]
     },
     "execution_count": 5,
     "metadata": {},
     "output_type": "execute_result"
    }
   ],
   "source": [
    "float(2)"
   ]
  },
  {
   "cell_type": "markdown",
   "metadata": {},
   "source": [
    " "
   ]
  },
  {
   "cell_type": "markdown",
   "metadata": {},
   "source": [
    "--- "
   ]
  },
  {
   "cell_type": "markdown",
   "metadata": {},
   "source": [
    "# 2. Sequence"
   ]
  },
  {
   "cell_type": "markdown",
   "metadata": {},
   "source": [
    "자료를 일정한 순서에 의해 저장하는 객체의 범주를 `sequence`라고 한다. <br>이 범주 안에는 대표적으로 다음과 같은 객체들이 포함된다:"
   ]
  },
  {
   "cell_type": "markdown",
   "metadata": {},
   "source": [
    "<li>string&emsp;문자열</li>\n",
    "<li>list&emsp;&emsp; 리스트</li>\n",
    "<li>tuples&emsp;튜플</li>"
   ]
  },
  {
   "cell_type": "markdown",
   "metadata": {},
   "source": [
    "각 객체들은 다음과 같이 생성한다:"
   ]
  },
  {
   "cell_type": "code",
   "execution_count": 6,
   "metadata": {},
   "outputs": [],
   "source": [
    "string_object = \"Hi, I am string\" # 큰/작은 따옴표 안에 문자 입력\n",
    "list_object = [\"Ok,\", \"I\", \"am\", \"list\"] # 대괄호 안에 자료 입력\n",
    "tuple_object = (\"Ummm\", \"...\", \"I\", \"am\", \"tuple\") # 일반 괄호 안에 자료 입력"
   ]
  },
  {
   "cell_type": "markdown",
   "metadata": {},
   "source": [
    "자료, 객체, 변수라는 용어를 계속 사용하고 있는데, 한 마디로 설명하면 이거다:<br>\n",
    "<b>자료(data)가 모여 객체(object)가 되고, 변수(variable)에 객체를 할당한다.</b><br><br>\n",
    "\n",
    "`list_object`를 예로 들면, \"Ok,\", \"I\", \"am\", \"list\" 각각은 자료다. 이 자료들을 `list`라는 자료형을 사용해 모아서 하나의 객체 \\[\"Ok,\", \"I\", \"am\", \"list\\]로 만든다. 이 객체의 정보는 RAM 어딘가의 메모리에 저장되는데, 이 메모리를 `list_object`란 변수로 가리킨다.<br><br>\n",
    "\n",
    "다른 예시로, a = 2를 실행한다 하자. 그러면 2라는 자료가 `int`객체로 어떤 메모리에 저장되고, a는 그 메모리를 가리킨다. 하지만 a = float(2)를 실행하면 2라는 자료는 `float`객체로 어떤 메모리에 저장되고, a는 `int`객체를 가리키다 말고 새로 생성된 `float`객체를 가리킨다."
   ]
  },
  {
   "cell_type": "markdown",
   "metadata": {},
   "source": [
    "## Memory and Variable"
   ]
  },
  {
   "cell_type": "markdown",
   "metadata": {},
   "source": [
    "메모리를 변수로 가리킨다는 것을 구체적으로 설명한다.<br>\n",
    "Python에는 `id`라는 함수가 있는데, \n",
    "이 함수는 input으로 입력한 변수에 대응하는 객체가 저장된 메모리의 주소를 반환한다. 다시 말하면, 변수를 input으로 받아 변수가 가리키고 있는 주소를 반환한다. 이 함수를 이용한 예시를 통해 변수로 메모리를 가리킨다는 것이 무슨 의미인지 설명한다."
   ]
  },
  {
   "cell_type": "markdown",
   "metadata": {},
   "source": [
    "ex. Python 3.5 이상의 버전에서는 메모리에 별도의 공간을 할당하여 자주 쓰이는 -5부터 256까지의 정수들을 저장해 놓는다. 즉, 어떤 변수에 1을 할당하면 이에 대응하는 객체인 1은 언제나 같은 메모리에 저장되기 때문에 n개의 변수에 1을 할당해도 n개의 주소는 모두 같다."
   ]
  },
  {
   "cell_type": "code",
   "execution_count": 7,
   "metadata": {},
   "outputs": [],
   "source": [
    "one = 1 # one이라는 변수에 1이라는 객체를 할당한다.\n",
    "another_one = 1 #another_one에도,\n",
    "additional_one = 1 # additional_one에도."
   ]
  },
  {
   "cell_type": "markdown",
   "metadata": {},
   "source": [
    "앞서 밝혔듯 1은 언제나 같은 메모리에 저장되어 있기 때문에 세 변수의 객체는 모두 같은 메모리에 저장되어 있을 것이다. 즉, 세 변수는 모두 같은 주소를 가리킨다고 예상할 수 있다."
   ]
  },
  {
   "cell_type": "code",
   "execution_count": 8,
   "metadata": {},
   "outputs": [
    {
     "data": {
      "text/plain": [
       "True"
      ]
     },
     "execution_count": 8,
     "metadata": {},
     "output_type": "execute_result"
    }
   ],
   "source": [
    "id(one) == id(another_one) and id(another_one) == id(additional_one) # 예상대로."
   ]
  },
  {
   "cell_type": "markdown",
   "metadata": {},
   "source": [
    "하지만 세 변수에 -5부터 256까지의 정수가 아닌 객체(ex. 257)를 할당한다고 하자. 그러면 변수를 생성하는 각각의 시점에 시스템은 아래와 같은 생각을 하며 변수를 생성한다."
   ]
  },
  {
   "cell_type": "code",
   "execution_count": 9,
   "metadata": {},
   "outputs": [],
   "source": [
    "one = 257 # 257은 사전에 저장된 객체가 아니므로 새로운 메모리에 저장하자.\n",
    "another_one = 257 # 257은 사전에 저장된 객체가 아니므로 새로운 메모리에 저장하자.\n",
    "additional_one = 257 # 257은 사전에 저장된 객체가 아니므로 새로운 메모리에 저장하자."
   ]
  },
  {
   "cell_type": "markdown",
   "metadata": {},
   "source": [
    "그렇기 때문에 `one`, `another_one`, `additional_one`의 메모리 주소는 각기 다르다(아래 코드의 `\\`는 줄바꿈을 해도 연결된 코드라는 것을 알려줄 때 위해 필요하다)."
   ]
  },
  {
   "cell_type": "code",
   "execution_count": 10,
   "metadata": {},
   "outputs": [
    {
     "data": {
      "text/plain": [
       "True"
      ]
     },
     "execution_count": 10,
     "metadata": {},
     "output_type": "execute_result"
    }
   ],
   "source": [
    "id(one) != id(another_one) and \\\n",
    "id(another_one) != id(additional_one) and \\\n",
    "id(additional_one) != id(one)"
   ]
  },
  {
   "cell_type": "markdown",
   "metadata": {},
   "source": [
    "+. `one`이 생성될 시점에 257은 어떤 메모리에 저장되었으니 `another_one`, `additional_one`을 생성할 시점에는 257이 \"사전에 저장된 객체\"니까 새로운 메모리에 저장하는 게 낭비스럽게 보일 수 있다. 즉, `another_one` 변수에 할당하려는 객체 257이 저장된 메모리를 이미 `one`이 가리키고 있으니 나머지 두 변수도 새 메모리에 값을 새로 만들지 말고 이 메모리를 가리키게 하는 것이 메모리를 아끼는 거라고 생각할 수 있다.<br><br>\n",
    "하지만 그렇지 않다. 예를 들어 10000개의 서로 다른 변수들의 객체가 메모리에 저장되어 있고, 10001번째 변수 `new`를 생성하려 한다 하자. 위의 방식을 적용하려면 먼저 `new`에 대응시킬 객체가 나머지 9000개의 객체와 같은지를 탐색하는 과정이 필요하다. 이 과정에서 메모리 손실이 불가피하고, 이 손실은 변수의 개수가 늘어나면 늘어날수록 심화된다.<br><br>\n",
    "그러므로 -5와 256 사이의 정수같은 특별한 경우가 아닌 이상, 새로 생성되는 객체는 새로운메모리에 할당되도록 하는 것이 오히려 메모리를 아끼는 방법이 된다.\n"
   ]
  },
  {
   "cell_type": "markdown",
   "metadata": {},
   "source": [
    "## Slicing"
   ]
  },
  {
   "cell_type": "markdown",
   "metadata": {},
   "source": [
    "객체 내 자료가 순서에 의해 저장되는 만큼, 객체 내 자료의 위치를 통해 자료를 지목할 수 있다는 점이 `sequence`형 객체들의 특징이다. <b>객체 내 자료의 위치를 가지고 자료를 불러내는 것</b>을 `slicing`이라고 하는데, 아래 코드는 `slicing`에 관한 다음의 사실들을 드러낸다:<br>\n",
    "<ol>\n",
    "    <li>Python에서는 0이 한 sequence형 객체의 첫 번째 자료의 위치를 나타낸다.</li>\n",
    "    <li>음수인 index(위치)는 해당 객체의 마지막 n번째 자료를 지칭한다.</li>\n",
    "    <li>slicing의 일반적인 형태는 [start : stop : step]이다. stop index에 해당하는 자료는 불리지 않는다.</li>\n",
    "</ol>"
   ]
  },
  {
   "cell_type": "code",
   "execution_count": 11,
   "metadata": {},
   "outputs": [
    {
     "name": "stdout",
     "output_type": "stream",
     "text": [
      " 1. H \n",
      " 2. am \n",
      " 3. ('Ummm', 'I')\n"
     ]
    }
   ],
   "source": [
    "print(\" 1.\", string_object[0], \"\\n\",\n",
    "      \"2.\", list_object[-2], \"\\n\",\n",
    "      \"3.\", tuple_object[0:4:2])"
   ]
  },
  {
   "cell_type": "markdown",
   "metadata": {},
   "source": [
    "+. 보충설명<br>\n",
    "1. Hi I am string의 첫 자료(즉, 첫 글자)가 H라서 H가 출력됨.\n",
    "1. `list_object`의 뒤에서 2번째 자료인 am이 출력됨.\n",
    "1. `tuple_object`의 1번째부터 4번째 자료를 출력(tuple_object\\[0:4\\])하는데(이는 stop index인 4에 해당하는 자료가 5번째 자료이고 따라서 안 불리기 때문), 두 개마다 하나씩 출력됨(tuple_object\\[0:4:2\\]). 따라서 1번째, 3번째 자료가 출력됨.\n",
    "\n",
    "+. 추가로, by가 음수면 자료를 역순으로 출력해 준다"
   ]
  },
  {
   "cell_type": "code",
   "execution_count": 12,
   "metadata": {},
   "outputs": [
    {
     "data": {
      "text/plain": [
       "('tuple', 'am', 'I', '...', 'Ummm')"
      ]
     },
     "execution_count": 12,
     "metadata": {},
     "output_type": "execute_result"
    }
   ],
   "source": [
    "tuple_object[::-1]"
   ]
  },
  {
   "cell_type": "markdown",
   "metadata": {},
   "source": [
    "## Mutability"
   ]
  },
  {
   "cell_type": "markdown",
   "metadata": {},
   "source": [
    "변수에 객체를 할당한 이후에 그 객체를 수정할 수 있는 객체를 `mutable`하다고 한다. 이를 기준으로 `sequence` 객체들을 한번 더 세분할 수 있다"
   ]
  },
  {
   "cell_type": "markdown",
   "metadata": {},
   "source": [
    "<ul>\n",
    "    <li>Mutable</li>\n",
    "    <ul>1. list</ul>\n",
    "    <li>Immutable</li>\n",
    "    <ul>1. string</ul>\n",
    "    <ul>2. tuples</ul>"
   ]
  },
  {
   "cell_type": "markdown",
   "metadata": {},
   "source": [
    "실제로 `list`는 아래에서 확인할 수 있듯 할당 후 수정이 가능하지만, 똑같은 작업을 `string`이나 `tuples`에도 수행하면 error가 발생한다."
   ]
  },
  {
   "cell_type": "code",
   "execution_count": 13,
   "metadata": {},
   "outputs": [
    {
     "data": {
      "text/plain": [
       "['Nice to meet you,', 'I', 'am', 'list']"
      ]
     },
     "execution_count": 13,
     "metadata": {},
     "output_type": "execute_result"
    }
   ],
   "source": [
    "list_object[0] = \"Nice to meet you,\"\n",
    "list_object"
   ]
  },
  {
   "cell_type": "code",
   "execution_count": 14,
   "metadata": {},
   "outputs": [
    {
     "ename": "TypeError",
     "evalue": "'str' object does not support item assignment",
     "output_type": "error",
     "traceback": [
      "\u001b[1;31m---------------------------------------------------------------------------\u001b[0m",
      "\u001b[1;31mTypeError\u001b[0m                                 Traceback (most recent call last)",
      "\u001b[1;32m<ipython-input-14-eea2c34b5f59>\u001b[0m in \u001b[0;36m<module>\u001b[1;34m\u001b[0m\n\u001b[1;32m----> 1\u001b[1;33m \u001b[0mstring_object\u001b[0m\u001b[1;33m[\u001b[0m\u001b[1;36m0\u001b[0m\u001b[1;33m:\u001b[0m\u001b[1;36m2\u001b[0m\u001b[1;33m]\u001b[0m \u001b[1;33m=\u001b[0m \u001b[1;34m\"Yo\"\u001b[0m\u001b[1;33m\u001b[0m\u001b[1;33m\u001b[0m\u001b[0m\n\u001b[0m",
      "\u001b[1;31mTypeError\u001b[0m: 'str' object does not support item assignment"
     ]
    }
   ],
   "source": [
    "string_object[0:2] = \"Yo\""
   ]
  },
  {
   "cell_type": "markdown",
   "metadata": {},
   "source": [
    "이런 차이는 `Mutable`한 객체들의 특별한 구조 때문이다. 생성한 `list_object`를 예로 들면,\n",
    "이 `list`가 가리키는 메모리 주소에는 `list_object`의 자료가 들어있지 않다. `list_object`의 \n",
    "4개 자료는 각기 다른 메모리에 들어있게 되는데, 여기서 `list`객체의 역할은 사용자가 n번째 \n",
    "자료를 찾으면 해당 자료에 대응하는 메모리에 접근해서 거기서 비로소 그 자료를 찾아서 \n",
    "갖다주는 것이다.<br><br>\n",
    "요지는, `list`객체에 그 자료 자체는 저장되지 않는다는 것이다. 예시를 들어 본다."
   ]
  },
  {
   "cell_type": "code",
   "execution_count": 15,
   "metadata": {},
   "outputs": [],
   "source": [
    "list_a = ['a', 'b', 'c', 'd']"
   ]
  },
  {
   "cell_type": "markdown",
   "metadata": {},
   "source": [
    "위 코드를 통해 4개의 자료 `a`, `b`, `c`, `d`가 각기 다른 메모리에 저장되었고, 이 자료들은\n",
    "`list_a`가 가리키고 있는 주소에 저장된 `list`객체를 통해 접근할 수 있다."
   ]
  },
  {
   "cell_type": "code",
   "execution_count": 16,
   "metadata": {},
   "outputs": [],
   "source": [
    "list_b = list_a"
   ]
  },
  {
   "cell_type": "markdown",
   "metadata": {},
   "source": [
    "위 코드를 통해 `list_b`라는 변수는 `list_a`가 가리키고 있는 `list`객체의 주소를 가리키게 된다."
   ]
  },
  {
   "cell_type": "code",
   "execution_count": 17,
   "metadata": {},
   "outputs": [],
   "source": [
    "list_a[0] = 'A'"
   ]
  },
  {
   "cell_type": "markdown",
   "metadata": {},
   "source": [
    "위 코드를 통해 `A`라는 자료가 생성돼 어떤 메모리에 저장되었고, `list_a`가 가리키고 있는 \n",
    "`list`객체는 앞으로 사용자가 `list_a`의 첫 번째 자료를 찾으면 `A`가 저장된 메모리에서 자료를\n",
    "갖다줄 것이다. 이때, `list_b`가 가리키고 있는 `list`객체가 바로 이 객체이므로 다음과 같은 결과를 얻는다:"
   ]
  },
  {
   "cell_type": "code",
   "execution_count": 18,
   "metadata": {},
   "outputs": [
    {
     "data": {
      "text/plain": [
       "['A', 'b', 'c', 'd']"
      ]
     },
     "execution_count": 18,
     "metadata": {},
     "output_type": "execute_result"
    }
   ],
   "source": [
    "list_b"
   ]
  },
  {
   "cell_type": "markdown",
   "metadata": {},
   "source": [
    "얼핏 보면 `list_b`를 수정한 적은 없기에 왜 `list_b`가 수정된건지 의아할 수 있다. 그래서 메모리에 대한 설명이 전제되어야 이런 현상을 이해할 수 있다(사실 이 내용 때문에 위에서 메모리와 변수에 대해 구구절절 설명한 것이긴 하다)."
   ]
  },
  {
   "cell_type": "markdown",
   "metadata": {},
   "source": [
    "이런 현상은 `immutable`한 객체들에서는 일어나지 않는다. 역시 예시를 들어 본다."
   ]
  },
  {
   "cell_type": "code",
   "execution_count": 19,
   "metadata": {},
   "outputs": [],
   "source": [
    "python_a = \"python\""
   ]
  },
  {
   "cell_type": "markdown",
   "metadata": {},
   "source": [
    "`python_a`가 가리키는 주소에 `string` 객체가 담기고, 이 객체엔 `python`이라는 자료가 담긴다."
   ]
  },
  {
   "cell_type": "code",
   "execution_count": 20,
   "metadata": {},
   "outputs": [],
   "source": [
    "python_b = python_a"
   ]
  },
  {
   "cell_type": "markdown",
   "metadata": {},
   "source": [
    "`python_b` 역시 `python_a`가 가리키고 있는 `string` 객체를 가리키게 된다."
   ]
  },
  {
   "cell_type": "code",
   "execution_count": 21,
   "metadata": {},
   "outputs": [],
   "source": [
    "python_a = \"faithun\""
   ]
  },
  {
   "cell_type": "markdown",
   "metadata": {},
   "source": [
    "`faithun`이라는 `string` 객체가 어느 메모리에 할당되고, `python_a`가 이를 가리키게 된다.<br>\n",
    "이를 통해 `python_b`가 가리키는 객체가 달라지는 것은 아니므로, 다음을 확인할 수 있다:"
   ]
  },
  {
   "cell_type": "code",
   "execution_count": 22,
   "metadata": {},
   "outputs": [
    {
     "data": {
      "text/plain": [
       "'python'"
      ]
     },
     "execution_count": 22,
     "metadata": {},
     "output_type": "execute_result"
    }
   ],
   "source": [
    "python_b"
   ]
  },
  {
   "cell_type": "markdown",
   "metadata": {},
   "source": [
    "요약하면, 메모리에 할당된 모든 자료는 삭제되지 않는 한 변경되지 않는다는 것이다.<br>\n",
    "다만, `mutable`한 객체의 경우 그 객체가 다시 가리키는 자료를 변경하기 때문에 마치 객체가\n",
    "변경된 것처럼 보일 뿐이다."
   ]
  },
  {
   "cell_type": "markdown",
   "metadata": {},
   "source": [
    "## Function, Method(Built-in)"
   ]
  },
  {
   "cell_type": "markdown",
   "metadata": {},
   "source": [
    "어떤 특정한 자료형에만 수행할 수 있는 연산을 `method`라고 하고,\n",
    "여러 자료형에 걸쳐 수행할 수 있는 연산을 `function`이라 한다.<br><br>\n",
    "\n",
    "예를 들어, `sequence`자료형의 경우에 `len`이라는 built-in `function`이 제공된다.\n",
    "객체가 담고 있는 자료의 수를 반환한다."
   ]
  },
  {
   "cell_type": "code",
   "execution_count": 23,
   "metadata": {},
   "outputs": [
    {
     "name": "stdout",
     "output_type": "stream",
     "text": [
      "Length of \n",
      " 'Hi, I am string' : 15 \n",
      " ['Nice to meet you,', 'I', 'am', 'list'] : 4 \n",
      " ('Ummm', '...', 'I', 'am', 'list') : 5\n"
     ]
    }
   ],
   "source": [
    "print(\"Length of \\n\",\n",
    "     \"'Hi, I am string' :\", len(string_object), \"\\n\",\n",
    "     \"['Nice to meet you,', 'I', 'am', 'list'] :\", len(list_object), \"\\n\",\n",
    "     \"('Ummm', '...', 'I', 'am', 'list') :\", len(tuple_object))"
   ]
  },
  {
   "cell_type": "markdown",
   "metadata": {},
   "source": [
    "물론 앞서 짧게 언급한 `type`도 `function`에 해당한다.<br><br>\n",
    "그리고 특별히 `list`자료형에는 `append`라는 built-in `method`가 제공된다.\n",
    "변수에 할당된 객체의 맨 끝에 자료를 붙이는 연산이다."
   ]
  },
  {
   "cell_type": "code",
   "execution_count": 24,
   "metadata": {},
   "outputs": [
    {
     "data": {
      "text/plain": [
       "['Nice to meet you,', 'I', 'am', 'list', 'haha']"
      ]
     },
     "execution_count": 24,
     "metadata": {},
     "output_type": "execute_result"
    }
   ],
   "source": [
    "list_object.append(\"haha\")\n",
    "list_object"
   ]
  },
  {
   "cell_type": "markdown",
   "metadata": {},
   "source": [
    "확인할 수 있는 차이는, `function`은 정말 저렇게 평소 사용하는 함수의 형태로 정의되었지만<br>\n",
    "`method`는 변수.method의 형태로 사용하도록 정의되어 있다는 것이다."
   ]
  },
  {
   "cell_type": "markdown",
   "metadata": {},
   "source": [
    "객체별로 정의된 `function`, `method`를 일일이 설명하는건 효과적이지도 않고 낭비만 심하므로 정리하지 않았다.\n",
    "도움이 필요하면 help나 객체 속성을 확인하거나(ex. `help(list)`, `dir(list)`), 구글링을 하면 된다."
   ]
  },
  {
   "cell_type": "markdown",
   "metadata": {},
   "source": [
    "## Sequence Operation"
   ]
  },
  {
   "cell_type": "markdown",
   "metadata": {},
   "source": [
    "Sequence 객체에도 +, * 연산자를 사용할 수 있는데, 그러면 다음과 같은 이름으로 불린다:<br>\n",
    "<li>+&emsp;concatenation&emsp;&emsp;&emsp;&ensp;객체의 맨 끝에 동일한 유형의 자료를 붙여 새로운 객체를 만듦</li>\n",
    "<li>*&emsp;integer multiplication&emsp;객체의 맨 끝에 해당 객체를 integer번 붙여 새로운 객체를 만듦</li>"
   ]
  },
  {
   "cell_type": "code",
   "execution_count": 25,
   "metadata": {},
   "outputs": [
    {
     "data": {
      "text/plain": [
       "'Hi, I am string....'"
      ]
     },
     "execution_count": 25,
     "metadata": {},
     "output_type": "execute_result"
    }
   ],
   "source": [
    "string_object + \"....\""
   ]
  },
  {
   "cell_type": "code",
   "execution_count": 26,
   "metadata": {},
   "outputs": [
    {
     "data": {
      "text/plain": [
       "('Ummm', '...', 'I', 'am', 'tuple', 'Ummm', '...', 'I', 'am', 'tuple')"
      ]
     },
     "execution_count": 26,
     "metadata": {},
     "output_type": "execute_result"
    }
   ],
   "source": [
    "tuple_object * 2"
   ]
  },
  {
   "cell_type": "code",
   "execution_count": 27,
   "metadata": {},
   "outputs": [
    {
     "data": {
      "text/plain": [
       "'Solololololololo'"
      ]
     },
     "execution_count": 27,
     "metadata": {},
     "output_type": "execute_result"
    }
   ],
   "source": [
    "\"So\" + \"lo\" * 7"
   ]
  },
  {
   "cell_type": "markdown",
   "metadata": {},
   "source": [
    "# 3. Collections"
   ]
  },
  {
   "cell_type": "markdown",
   "metadata": {},
   "source": [
    "(1) 자료가 순서에 의해 저장되지 않아 index가 없고 <br>(2) 중복을 허용하지 않는 객체의 범주다.<br>이 범주엔 다음과 같은 객체가 포함된다.<br>\n",
    "<li>Set</li>\n",
    "<li>Dictionary</li>\n",
    "\n",
    "위의 두 객체는 다음과 같은 공통점을 갖는다:<br>\n",
    "<ol>\n",
    "    <li>Mutable한 객체다.</li>\n",
    "    <li>중괄호 안에 자료를 입력해 생성된다.</li>\n",
    "</ol><br>\n",
    "이 두 객체의 차이는 중괄호 안에 입력하는 자료의 형태다. \n",
    "`Dictionary`는 `key`와 `value`의 쌍이라는 특이한 형태로 자료가 입력된다:"
   ]
  },
  {
   "cell_type": "code",
   "execution_count": 28,
   "metadata": {},
   "outputs": [
    {
     "data": {
      "text/plain": [
       "{2, 3, 4}"
      ]
     },
     "execution_count": 28,
     "metadata": {},
     "output_type": "execute_result"
    }
   ],
   "source": [
    "set_object = {3, 2, 4, 4}\n",
    "set_object # 중복을 허용하지 않음"
   ]
  },
  {
   "cell_type": "code",
   "execution_count": 29,
   "metadata": {},
   "outputs": [
    {
     "ename": "TypeError",
     "evalue": "'set' object does not support indexing",
     "output_type": "error",
     "traceback": [
      "\u001b[1;31m---------------------------------------------------------------------------\u001b[0m",
      "\u001b[1;31mTypeError\u001b[0m                                 Traceback (most recent call last)",
      "\u001b[1;32m<ipython-input-29-1d99afdd7132>\u001b[0m in \u001b[0;36m<module>\u001b[1;34m\u001b[0m\n\u001b[1;32m----> 1\u001b[1;33m \u001b[0mset_object\u001b[0m\u001b[1;33m[\u001b[0m\u001b[1;36m0\u001b[0m\u001b[1;33m]\u001b[0m \u001b[1;31m# index가 없음\u001b[0m\u001b[1;33m\u001b[0m\u001b[1;33m\u001b[0m\u001b[0m\n\u001b[0m",
      "\u001b[1;31mTypeError\u001b[0m: 'set' object does not support indexing"
     ]
    }
   ],
   "source": [
    "set_object[0] # index가 없음"
   ]
  },
  {
   "cell_type": "code",
   "execution_count": 30,
   "metadata": {},
   "outputs": [
    {
     "data": {
      "text/plain": [
       "{1, 2, 3, 4}"
      ]
     },
     "execution_count": 30,
     "metadata": {},
     "output_type": "execute_result"
    }
   ],
   "source": [
    "set_object.add(1)\n",
    "set_object # 하지만 mutable함: set의 add method를 통해 객체가 변경됨을 확인"
   ]
  },
  {
   "cell_type": "markdown",
   "metadata": {},
   "source": [
    "`dictionary`는 `key:value`라는 쌍으로 자료가 입력된다."
   ]
  },
  {
   "cell_type": "code",
   "execution_count": 31,
   "metadata": {},
   "outputs": [
    {
     "data": {
      "text/plain": [
       "{'key1': 3.1415, 'key2': [1, 2, 3, 4], 'key3': 'python'}"
      ]
     },
     "execution_count": 31,
     "metadata": {},
     "output_type": "execute_result"
    }
   ],
   "source": [
    "dictionary_object = {\"key1\" : 3.1415,\n",
    "                    \"key2\" : [1, 2, 3, 4],\n",
    "                    \"key3\" : \"python\"}\n",
    "dictionary_object"
   ]
  },
  {
   "cell_type": "code",
   "execution_count": 32,
   "metadata": {},
   "outputs": [
    {
     "data": {
      "text/plain": [
       "{'key1': 3.1415, 'key2': [1, 2, 3, 4], 'key3': 'python', 'key4': (4, 3, 2, 1)}"
      ]
     },
     "execution_count": 32,
     "metadata": {},
     "output_type": "execute_result"
    }
   ],
   "source": [
    "dictionary_object[\"key4\"] = (4, 3, 2, 1)\n",
    "dictionary_object # dictionary도 mutable함"
   ]
  },
  {
   "cell_type": "code",
   "execution_count": 33,
   "metadata": {},
   "outputs": [
    {
     "ename": "KeyError",
     "evalue": "3",
     "output_type": "error",
     "traceback": [
      "\u001b[1;31m---------------------------------------------------------------------------\u001b[0m",
      "\u001b[1;31mKeyError\u001b[0m                                  Traceback (most recent call last)",
      "\u001b[1;32m<ipython-input-33-bd3a20bffcaa>\u001b[0m in \u001b[0;36m<module>\u001b[1;34m\u001b[0m\n\u001b[1;32m----> 1\u001b[1;33m \u001b[0mdictionary_object\u001b[0m\u001b[1;33m[\u001b[0m\u001b[1;36m3\u001b[0m\u001b[1;33m]\u001b[0m \u001b[1;31m# index는 없음. 3이라는 key가 없다는 keyError가 발생한 것을 확인\u001b[0m\u001b[1;33m\u001b[0m\u001b[1;33m\u001b[0m\u001b[0m\n\u001b[0m",
      "\u001b[1;31mKeyError\u001b[0m: 3"
     ]
    }
   ],
   "source": [
    "dictionary_object[3] # index는 없음. 3이라는 key가 없다는 keyError가 발생한 것을 확인"
   ]
  },
  {
   "cell_type": "markdown",
   "metadata": {},
   "source": [
    "그리고 `key`들과 `value`들을 각각 따로 조회해 볼 수 있다."
   ]
  },
  {
   "cell_type": "code",
   "execution_count": 34,
   "metadata": {},
   "outputs": [
    {
     "data": {
      "text/plain": [
       "dict_keys(['key1', 'key2', 'key3', 'key4'])"
      ]
     },
     "execution_count": 34,
     "metadata": {},
     "output_type": "execute_result"
    }
   ],
   "source": [
    "dictionary_object.keys()"
   ]
  },
  {
   "cell_type": "code",
   "execution_count": 35,
   "metadata": {},
   "outputs": [
    {
     "data": {
      "text/plain": [
       "dict_values([3.1415, [1, 2, 3, 4], 'python', (4, 3, 2, 1)])"
      ]
     },
     "execution_count": 35,
     "metadata": {},
     "output_type": "execute_result"
    }
   ],
   "source": [
    "dictionary_object.values()"
   ]
  },
  {
   "cell_type": "markdown",
   "metadata": {},
   "source": [
    "당연히 `key`, `value`들의 쌍들을 조회해 볼 수도 있는데, 각 쌍은 하나의 `tuple`로 출력된다."
   ]
  },
  {
   "cell_type": "code",
   "execution_count": 36,
   "metadata": {},
   "outputs": [
    {
     "data": {
      "text/plain": [
       "dict_items([('key1', 3.1415), ('key2', [1, 2, 3, 4]), ('key3', 'python'), ('key4', (4, 3, 2, 1))])"
      ]
     },
     "execution_count": 36,
     "metadata": {},
     "output_type": "execute_result"
    }
   ],
   "source": [
    "dictionary_object.items()"
   ]
  }
 ],
 "metadata": {
  "kernelspec": {
   "display_name": "Python 3",
   "language": "python",
   "name": "python3"
  },
  "language_info": {
   "codemirror_mode": {
    "name": "ipython",
    "version": 3
   },
   "file_extension": ".py",
   "mimetype": "text/x-python",
   "name": "python",
   "nbconvert_exporter": "python",
   "pygments_lexer": "ipython3",
   "version": "3.6.8"
  }
 },
 "nbformat": 4,
 "nbformat_minor": 2
}
