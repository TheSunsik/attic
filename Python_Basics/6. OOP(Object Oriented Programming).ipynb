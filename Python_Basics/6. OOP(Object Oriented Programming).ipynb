{
 "cells": [
  {
   "cell_type": "markdown",
   "metadata": {},
   "source": [
    "#### Reference\n",
    "<li><a href=https://www.youtube.com/watch?v=ZDa-Z5JzLYM&list=PL-osiE80TeTsqhIuOqKhwlXsIBIdSeYtc>Corey Schafer OOP playlist</a></li>\n",
    "<li><a href=https://www.inflearn.com/course/python-파이썬-입문-강좌/>inflearn course</a></li>\n",
    "\n",
    "#### Arranged By\n",
    "<li><a href=https://github.com/TheSunsik/wrapups/tree/master/Python/Basics>sunsik kim</a></li>"
   ]
  },
  {
   "cell_type": "markdown",
   "metadata": {},
   "source": [
    "# 0. Introduction"
   ]
  },
  {
   "cell_type": "markdown",
   "metadata": {},
   "source": [
    "Class는 함수들과 변수들의 논리적 단위<b>(Logical group of functions of data)</b>나 instance의 조형틀<b>(blueprint for creating instances)</b>라고 할 수 있다. 특정한 기능을 하는 함수들과 그에 필요한 변수들을 묶어서 하나의 객체로 관리할 수 있기 때문이다. 다음과 같은 핵심어를 먼저 알아야 한다:<br>\n",
    "<ul>\n",
    "    <li><b>instance :</b> Class로 생성한 객체</li>\n",
    "    <li><b>method :</b> Class 내부에서 정의된 함수</li>\n",
    "    <li><b>attribute :</b> Class 내부에서 정의된 변수</li>\n",
    "</ul>\n",
    "\n",
    "먼저 class를 초기화시키는 \\_\\_init\\_\\_ method가 필요하다. 여기서 self란 이 class를 통해 생성될 instance의 대명사라고 할 수 있다(다르게도 쓸 수 있지만 관습적으로 self라고 쓴다). 즉, 아래 예시에서는 \\_\\_init\\_\\_를 통해 한 instance의 first, last, pay라는 attribute가 설정되는 것이다."
   ]
  },
  {
   "cell_type": "code",
   "execution_count": 1,
   "metadata": {},
   "outputs": [
    {
     "name": "stdout",
     "output_type": "stream",
     "text": [
      "Chulsoo Kim 500\n"
     ]
    }
   ],
   "source": [
    "class Employee:\n",
    "    \n",
    "    def __init__(self, first, last, pay):\n",
    "        self.first = first # instance의 first라는 attribute를 초기화 단계에서 first 자리에 입력한 값으로 설정해라\n",
    "        self.last = last # instance의 second라는 attribute를 초기화 단계에서 second 자리에 입력한 값으로 설정해라\n",
    "        self.pay = pay # instance의 pay라는 attribute를 초기화 단계에서 pay 자리에 입력한 값으로 설정해라\n",
    "        self.fullname = \" \".join([first, last]) # instance의 fullname을 first와 last자리에 입력한 값들을 띄어쓰기로 합친 값으로 설정해라\n",
    "\n",
    "emp_1 = Employee('Chulsoo', 'Kim', 500) # Employee class를 통해 emp_1이라는 instance를 생성해라\n",
    "print(emp_1.fullname, emp_1.pay) # emp_1라는 instance의 full name, pay라는 attribute를 출력해라"
   ]
  },
  {
   "cell_type": "markdown",
   "metadata": {},
   "source": [
    "---"
   ]
  },
  {
   "cell_type": "markdown",
   "metadata": {},
   "source": [
    "# 1. Attributes"
   ]
  },
  {
   "cell_type": "markdown",
   "metadata": {},
   "source": [
    "Class 내에서 사용되는 attribute는 크게 두 가지로 분류할 수 있다:\n",
    "- <b>instance variable : </b>한 instance에 특별히 귀속되는 attribute. `self.attribute`의 형식으로 참조한다.\n",
    "- <b>class variable : </b>그 class의 모든 instance가 공유하는 attribute. `class.attribute`의 형식으로 참조한다.\n"
   ]
  },
  {
   "cell_type": "markdown",
   "metadata": {},
   "source": [
    "instance variable은 self.attribute의 형식으로 참조해야 한다."
   ]
  },
  {
   "cell_type": "code",
   "execution_count": 4,
   "metadata": {},
   "outputs": [
    {
     "name": "stdout",
     "output_type": "stream",
     "text": [
      "Chulsoo.Kim@gmail.com\n"
     ]
    }
   ],
   "source": [
    "class Employee:\n",
    "    \n",
    "    def __init__(self, first, last):\n",
    "        self.first = first\n",
    "        self.last = last\n",
    "        self.fullname = \" \".join([first, last])\n",
    "    \n",
    "    def getEmail(self, domain):\n",
    "        return self.first + \".\" + self.last + \"@\" + domain\n",
    "\n",
    "emp_1 = Employee('Chulsoo', 'Kim')\n",
    "print(emp_1.getEmail('gmail.com'))"
   ]
  },
  {
   "cell_type": "markdown",
   "metadata": {},
   "source": [
    "class variable은 class.attribute의 형식으로 참조해야 한다."
   ]
  },
  {
   "cell_type": "code",
   "execution_count": 5,
   "metadata": {},
   "outputs": [
    {
     "name": "stdout",
     "output_type": "stream",
     "text": [
      "Chulsoo Kim is 1st among 3 employees\n",
      "Younghee Choi is 2nd among 3 employees\n",
      "Jungchul Park is 3rd among 3 employees\n"
     ]
    }
   ],
   "source": [
    "class Employee:\n",
    "    empnum = 0\n",
    "    \n",
    "    def __init__(self, first, last):\n",
    "        self.first = first\n",
    "        self.last = last\n",
    "        self.fullname = \" \".join([first, last])\n",
    "        Employee.empnum += 1\n",
    "        # class.attribute의 형태로 Employee의 class variable인 empnum을 참조 후 1만큼 increment\n",
    "        self.order = Employee.empnum\n",
    "        # class variable인 empnum을 사용해 instance의 attribute인 order를 설정함.\n",
    "\n",
    "emp_1 = Employee('Chulsoo', 'Kim')\n",
    "# 이 시점에서 class variable empnum이 1이 되고, instance의 attribute인 order는 이 값을 받아 1이 된다.\n",
    "emp_2 = Employee('Younghee', 'Choi')\n",
    "# 이 시점에서 class variable empnum이 2가 되고, instance의 attribute인 order는 이 값을 받아 2가 된다.\n",
    "emp_3 = Employee('Jungchul', 'Park')\n",
    "# 이 시점에서 class variable empnum이 3이 되고, instance의 attribute인 order는 이 값을 받아 3이 된다.\n",
    "\n",
    "print(f\"{emp_1.fullname} is {emp_1.order}st among {emp_1.empnum} employees\")\n",
    "print(f\"{emp_2.fullname} is {emp_2.order}nd among {emp_2.empnum} employees\")\n",
    "print(f\"{emp_3.fullname} is {emp_3.order}rd among {emp_3.empnum} employees\")"
   ]
  },
  {
   "cell_type": "markdown",
   "metadata": {},
   "source": [
    "물론 class나 instance를 다시 선언하지 않고도 attribute를 수정할 수 있다."
   ]
  },
  {
   "cell_type": "code",
   "execution_count": 6,
   "metadata": {},
   "outputs": [
    {
     "name": "stdout",
     "output_type": "stream",
     "text": [
      "Chulsoo Kim is 1st among 100 employees\n",
      "Younghee Choi is 2nd among 100 employees\n",
      "Jungchul Park is 5th among 100 employees\n"
     ]
    }
   ],
   "source": [
    "Employee.empnum = 100\n",
    "emp_3.order = 5\n",
    "print(f\"{emp_1.fullname} is {emp_1.order}st among {emp_1.empnum} employees\")\n",
    "print(f\"{emp_2.fullname} is {emp_2.order}nd among {emp_2.empnum} employees\")\n",
    "print(f\"{emp_3.fullname} is {emp_3.order}th among {emp_3.empnum} employees\")"
   ]
  },
  {
   "cell_type": "markdown",
   "metadata": {},
   "source": [
    "---"
   ]
  },
  {
   "cell_type": "markdown",
   "metadata": {},
   "source": [
    "# 2. Methods"
   ]
  },
  {
   "cell_type": "markdown",
   "metadata": {},
   "source": [
    "Class에서 사용되는 method들은 크게 세 가지로 분류할 수 있다:\n",
    "- <b>regular method :</b> 첫 번째 argument로 instance가 자동으로 들어가는 method. 별도의 decorator 필요 없음.\n",
    "- <b>class method :</b> 첫 번째 argument로 class가 자동으로 들어가는 method. `@classmethod`라는 decorator 필요\n",
    "- <b>static method :</b> 첫 번째 argument로 자동으로 들어가는 것이 없는 method. `@staticmethod`라는 decorator 필요."
   ]
  },
  {
   "cell_type": "markdown",
   "metadata": {},
   "source": [
    "## (1) Regular Method"
   ]
  },
  {
   "cell_type": "markdown",
   "metadata": {},
   "source": [
    "Decorator를 지정하지 않고 method를 선언한다면 regular method를 선언하는 것이다. 그렇기 때문에 instance가 첫번째 argument로 들어오고, 따라서 이 자리를 미리 만들어 놓아야 한다."
   ]
  },
  {
   "cell_type": "code",
   "execution_count": 1,
   "metadata": {},
   "outputs": [
    {
     "ename": "TypeError",
     "evalue": "getEmail() takes 0 positional arguments but 1 was given",
     "output_type": "error",
     "traceback": [
      "\u001b[1;31m---------------------------------------------------------------------------\u001b[0m",
      "\u001b[1;31mTypeError\u001b[0m                                 Traceback (most recent call last)",
      "\u001b[1;32m<ipython-input-1-ed00eca9983d>\u001b[0m in \u001b[0;36m<module>\u001b[1;34m\u001b[0m\n\u001b[0;32m     10\u001b[0m \u001b[1;33m\u001b[0m\u001b[0m\n\u001b[0;32m     11\u001b[0m \u001b[0memp_1\u001b[0m \u001b[1;33m=\u001b[0m \u001b[0mEmployee\u001b[0m\u001b[1;33m(\u001b[0m\u001b[1;34m'Chulsoo'\u001b[0m\u001b[1;33m,\u001b[0m \u001b[1;34m'Kim'\u001b[0m\u001b[1;33m)\u001b[0m\u001b[1;33m\u001b[0m\u001b[1;33m\u001b[0m\u001b[0m\n\u001b[1;32m---> 12\u001b[1;33m \u001b[0mprint\u001b[0m\u001b[1;33m(\u001b[0m\u001b[0memp_1\u001b[0m\u001b[1;33m.\u001b[0m\u001b[0mgetEmail\u001b[0m\u001b[1;33m(\u001b[0m\u001b[1;33m)\u001b[0m\u001b[1;33m)\u001b[0m\u001b[1;33m\u001b[0m\u001b[1;33m\u001b[0m\u001b[0m\n\u001b[0m",
      "\u001b[1;31mTypeError\u001b[0m: getEmail() takes 0 positional arguments but 1 was given"
     ]
    }
   ],
   "source": [
    "class Employee:\n",
    "    \n",
    "    def __init__(self, first, last):\n",
    "        self.first = first\n",
    "        self.last = last\n",
    "        self.fullname = \" \".join([first, last])\n",
    "    \n",
    "    def getEmail():\n",
    "        return self.first + \".\" + self.last + \"@company.com\"\n",
    "\n",
    "emp_1 = Employee('Chulsoo', 'Kim')\n",
    "print(emp_1.getEmail())"
   ]
  },
  {
   "cell_type": "markdown",
   "metadata": {},
   "source": [
    " 이 자리를 만들어놓지 않으면 \"method() takes 0 positional arguments but 1 was given\"이라는 Error가 발생하는데, 이는 설정한 parameter는 없지만(takes 0 positional arguments) self가 자동으로 입력되었기 때문이다(1 was given)."
   ]
  },
  {
   "cell_type": "code",
   "execution_count": 2,
   "metadata": {},
   "outputs": [
    {
     "name": "stdout",
     "output_type": "stream",
     "text": [
      "Chulsoo.Kim@company.com\n"
     ]
    }
   ],
   "source": [
    "class Employee:\n",
    "    \n",
    "    def __init__(self, first, last):\n",
    "        self.first = first\n",
    "        self.last = last\n",
    "        self.fullname = \" \".join([first, last])\n",
    "    \n",
    "    def getEmail(self):\n",
    "        return self.first + \".\" + self.last + \"@company.com\"\n",
    "\n",
    "emp_1 = Employee('Chulsoo', 'Kim')\n",
    "print(emp_1.getEmail())"
   ]
  },
  {
   "cell_type": "markdown",
   "metadata": {},
   "source": [
    "### Special Methods"
   ]
  },
  {
   "cell_type": "markdown",
   "metadata": {},
   "source": [
    "str, repr, len과 같은 Built-in operation들의 class-specific customization을 가능하게 해주는 방법이다. 주로 dunder(Double Underscores)에 둘러싸인 method로 정의된다(다른 operator들은, <a href=https://docs.python.org/3.6/library/index.html>Python documentation</a>의 내용 중에서 10.3. operator 등을 참조하면 된다). 통상 str과 repr은 아래와 같이 구분한다:<br>\n",
    "\n",
    "- `str` : informs user-friendly readable represenation of an object\n",
    "- `repr` : informs developer-friendly unambiguous representation of an oobject(usually reproducabe)\n",
    "\n",
    "(1) repr이 정의되어 있으면 str이 정의되어 있지 않아도 str(instance)를 실행하면 repr에 입력한 정보가 출력된다"
   ]
  },
  {
   "cell_type": "code",
   "execution_count": 39,
   "metadata": {},
   "outputs": [
    {
     "name": "stdout",
     "output_type": "stream",
     "text": [
      "Employee('Elon', 'Musk', 1000)\n",
      "Employee('Elon', 'Musk', 1000)\n"
     ]
    }
   ],
   "source": [
    "class Employee:\n",
    "    \n",
    "    def __init__(self, first, last, pay):\n",
    "        self.first = first\n",
    "        self.last = last\n",
    "        self.pay = pay\n",
    "        self.fullname = first + ' ' + last\n",
    "        \n",
    "    def __repr__(self):\n",
    "        return f\"Employee('{self.first}', '{self.last}', {self.pay})\"\n",
    "\n",
    "elon = Employee(\"Elon\", \"Musk\", 1000)\n",
    "print(repr(elon))\n",
    "print(str(elon))"
   ]
  },
  {
   "cell_type": "markdown",
   "metadata": {},
   "source": [
    "(2) print(instance)는 str에 입력해 놓은 정보를 출력한다."
   ]
  },
  {
   "cell_type": "code",
   "execution_count": 45,
   "metadata": {},
   "outputs": [
    {
     "name": "stdout",
     "output_type": "stream",
     "text": [
      "--> full name : Elon Musk\n",
      "--> email : elon.musk@company.com\n",
      "--> full name : Elon Musk\n",
      "--> email : elon.musk@company.com\n",
      "__main__\n"
     ]
    }
   ],
   "source": [
    "class Employee:\n",
    "    \n",
    "    def __init__(self, first, last, pay):\n",
    "        self.first = first\n",
    "        self.last = last\n",
    "        self.pay = pay\n",
    "        self.fullname = first + ' ' + last\n",
    "        \n",
    "    def __repr__(self):\n",
    "        return f\"Employee('{self.first}', '{self.last}', {self.pay})\"\n",
    "    \n",
    "    def __str__(self):\n",
    "        return f\"--> full name : {self.first} {self.last}\\n--> email : {(self.first).lower()}.{(self.last).lower()}@company.com\"\n",
    "\n",
    "elon = Employee(\"Elon\", \"Musk\", 1000)\n",
    "print(str(elon))\n",
    "print(elon)"
   ]
  },
  {
   "cell_type": "markdown",
   "metadata": {},
   "source": [
    "## (2) Class Method"
   ]
  },
  {
   "cell_type": "markdown",
   "metadata": {},
   "source": [
    "`classmethod`라는 decorator를 추가한 후 생성하는 method로, 첫번째 argument로 class자체가 들어온다. 다음과 같은 상황에서 사용하기 좋다:\n",
    "<ol>\n",
    "    <li>instance를 생성하는 method를 만들 때</li>\n",
    "    <li>class variable을 수정하거나 참조하는 method를 만들 때</li>\n",
    "</ol>"
   ]
  },
  {
   "cell_type": "code",
   "execution_count": 3,
   "metadata": {},
   "outputs": [],
   "source": [
    "class Employee:\n",
    "    annual_pay_raise = 1.12\n",
    "    \n",
    "    def __init__(self, first, last, pay):\n",
    "        self.first = first\n",
    "        self.last = last\n",
    "        self.pay = float(pay)\n",
    "        self.fullname = \" \".join([first, last])\n",
    "    \n",
    "    # 1\n",
    "    @classmethod\n",
    "    def from_string(cls, employee_str):\n",
    "        first, last, pay = employee_str.split(\"-\")\n",
    "        return cls(first, last, pay)\n",
    "    \n",
    "    # 2\n",
    "    @classmethod\n",
    "    def change_payraise(cls, inputraise):\n",
    "        cls.annual_pay_raise = inputraise\n",
    "    \n",
    "    def payraise(self):\n",
    "        self.pay = round(self.pay * Employee.annual_pay_raise)"
   ]
  },
  {
   "cell_type": "code",
   "execution_count": 2,
   "metadata": {},
   "outputs": [
    {
     "data": {
      "text/plain": [
       "115"
      ]
     },
     "execution_count": 2,
     "metadata": {},
     "output_type": "execute_result"
    }
   ],
   "source": [
    "steve = Employee.from_string(\"Steve-Jobs-100\") # class method as alternative constructor\n",
    "Employee.change_payraise(1.15)\n",
    "steve.payraise()\n",
    "steve.pay"
   ]
  },
  {
   "cell_type": "markdown",
   "metadata": {},
   "source": [
    "## (3) Static Method"
   ]
  },
  {
   "cell_type": "markdown",
   "metadata": {},
   "source": [
    "`staticmethod`라는 decorator를 추가한 후 생성하는 method로, instance나 class의 정보를 사용하지 않는 method를 생성할 때 사용하기 알맞다."
   ]
  },
  {
   "cell_type": "code",
   "execution_count": 2,
   "metadata": {},
   "outputs": [],
   "source": [
    "class Employee:\n",
    "    \n",
    "    def __init__(self, first, last):\n",
    "        self.first = first\n",
    "        self.last = last\n",
    "        self.fullname = \" \".join([first, last])\n",
    "        \n",
    "    @staticmethod\n",
    "    def isworkday(day):\n",
    "        if day.weekday() in [5, 6]:\n",
    "            return False\n",
    "        return True"
   ]
  },
  {
   "cell_type": "code",
   "execution_count": 3,
   "metadata": {},
   "outputs": [
    {
     "data": {
      "text/plain": [
       "False"
      ]
     },
     "execution_count": 3,
     "metadata": {},
     "output_type": "execute_result"
    }
   ],
   "source": [
    "import datetime\n",
    "bill = Employee(\"Bill\", \"Gates\")\n",
    "bill.isworkday(datetime.date(2019, 1, 27)) # This date was Sunday"
   ]
  },
  {
   "cell_type": "markdown",
   "metadata": {},
   "source": [
    "## (4) More on Decorators"
   ]
  },
  {
   "cell_type": "markdown",
   "metadata": {},
   "source": [
    "instance variable을 관리하는 특별한 방법들에 대한 설명이다."
   ]
  },
  {
   "cell_type": "markdown",
   "metadata": {},
   "source": [
    "### 1) Property Decorator"
   ]
  },
  {
   "cell_type": "markdown",
   "metadata": {},
   "source": [
    "first나 last가 변경되면 fullname도 당연히 같이 변경되는 것이 타당하지만, init method안에서 fullname을 생성하면 class가 초기화될 때 한번 생성되고 끝이라서 first나 last의 변화에 연동되어 변경되지 않는다."
   ]
  },
  {
   "cell_type": "code",
   "execution_count": 4,
   "metadata": {},
   "outputs": [
    {
     "data": {
      "text/plain": [
       "'Bill Gates'"
      ]
     },
     "execution_count": 4,
     "metadata": {},
     "output_type": "execute_result"
    }
   ],
   "source": [
    "bill.last = \"ding\"\n",
    "bill.fullname"
   ]
  },
  {
   "cell_type": "markdown",
   "metadata": {},
   "source": [
    "이렇듯 어떤 variable의 변화에 맞춰 같이 변하는 variable을 생성할 때 필요한 것이 property decorator이다."
   ]
  },
  {
   "cell_type": "code",
   "execution_count": 5,
   "metadata": {},
   "outputs": [],
   "source": [
    "class Employee:\n",
    "    \n",
    "    def __init__(self, first, last):\n",
    "        self.first = first\n",
    "        self.last = last\n",
    "        \n",
    "    @property\n",
    "    def fullname(self):\n",
    "        return \" \".join([self.first, self.last])"
   ]
  },
  {
   "cell_type": "code",
   "execution_count": 7,
   "metadata": {},
   "outputs": [
    {
     "data": {
      "text/plain": [
       "'Bill Ding'"
      ]
     },
     "execution_count": 7,
     "metadata": {},
     "output_type": "execute_result"
    }
   ],
   "source": [
    "bill = Employee(\"Bill\", \"Gates\")\n",
    "bill.last = \"Ding\"\n",
    "bill.fullname"
   ]
  },
  {
   "cell_type": "markdown",
   "metadata": {},
   "source": [
    "### 2) method.setter"
   ]
  },
  {
   "cell_type": "markdown",
   "metadata": {},
   "source": [
    "이에 더해, fullname variable을 변경하면 instance variable까지 변경되는 기능까지 추가하고 싶으면 setter라는 decorator를 사용한다."
   ]
  },
  {
   "cell_type": "code",
   "execution_count": 13,
   "metadata": {},
   "outputs": [],
   "source": [
    "class Employee:\n",
    "    \n",
    "    def __init__(self, first, last):\n",
    "        self.first = first\n",
    "        self.last = last\n",
    "        \n",
    "    @property\n",
    "    def fullname(self):\n",
    "        return \" \".join([self.first, self.last])\n",
    "    \n",
    "    @fullname.setter\n",
    "    def fullname(self, fullname):\n",
    "        first, last = fullname.split(' ')\n",
    "        self.first = first\n",
    "        self.last = last"
   ]
  },
  {
   "cell_type": "code",
   "execution_count": 12,
   "metadata": {},
   "outputs": [
    {
     "data": {
      "text/plain": [
       "{'first': 'Buil', 'last': 'Ding'}"
      ]
     },
     "execution_count": 12,
     "metadata": {},
     "output_type": "execute_result"
    }
   ],
   "source": [
    "bill = Employee(\"Bill\", \"Gates\")\n",
    "bill.fullname = \"Buil Ding\"\n",
    "bill.__dict__"
   ]
  },
  {
   "cell_type": "markdown",
   "metadata": {},
   "source": [
    "### 3) method.deleter"
   ]
  },
  {
   "cell_type": "markdown",
   "metadata": {},
   "source": [
    "나아가, deleter 기능을 통해 어떤 instance variable을 삭제할 수도 있다."
   ]
  },
  {
   "cell_type": "code",
   "execution_count": 20,
   "metadata": {},
   "outputs": [],
   "source": [
    "class Employee:\n",
    "    \n",
    "    def __init__(self, first, last):\n",
    "        self.first = first\n",
    "        self.last = last\n",
    "        \n",
    "    @property\n",
    "    def fullname(self):\n",
    "        return \" \".join([self.first, self.last])\n",
    "    \n",
    "    @fullname.setter\n",
    "    def fullname(self, fullname):\n",
    "        first, last = fullname.split(' ')\n",
    "        self.first = first\n",
    "        self.last = last\n",
    "    \n",
    "    @fullname.deleter\n",
    "    def fullname(self):\n",
    "        self.first = None"
   ]
  },
  {
   "cell_type": "code",
   "execution_count": 21,
   "metadata": {},
   "outputs": [
    {
     "name": "stdout",
     "output_type": "stream",
     "text": [
      "None Gates\n"
     ]
    }
   ],
   "source": [
    "bill = Employee(\"Bill\", \"Gates\")\n",
    "del bill.fullname\n",
    "print(bill.first, bill.last)"
   ]
  },
  {
   "cell_type": "markdown",
   "metadata": {},
   "source": [
    "---"
   ]
  },
  {
   "cell_type": "markdown",
   "metadata": {},
   "source": [
    "# 3. Subclass"
   ]
  },
  {
   "cell_type": "markdown",
   "metadata": {},
   "source": [
    "## (1) Inheritance"
   ]
  },
  {
   "cell_type": "markdown",
   "metadata": {},
   "source": [
    "<b>기존에 선언해 놓은 class의 method, attribute를 그대로 사용하며 새로운 class를 만들고자 할 때 사용</b>할 수 있다. 이 '그대로 사용'을 '상속'이라고 하는데, 상속하는 class를 parent class, 상속받는 class를 subclass라고 한다. subclass를 만들기 위해서는 subclass명(parent class명)의 형태로 class를 선언하면 된다."
   ]
  },
  {
   "cell_type": "code",
   "execution_count": 4,
   "metadata": {},
   "outputs": [
    {
     "data": {
      "text/plain": [
       "False"
      ]
     },
     "execution_count": 4,
     "metadata": {},
     "output_type": "execute_result"
    }
   ],
   "source": [
    "class Developer(Employee):\n",
    "    pass\n",
    "\n",
    "corey = Developer('Corey', 'Schafer')\n",
    "corey.isworkday(datetime.date(2019, 1, 27))"
   ]
  },
  {
   "cell_type": "markdown",
   "metadata": {},
   "source": [
    "## (2) Method resolution order"
   ]
  },
  {
   "cell_type": "markdown",
   "metadata": {},
   "source": [
    "이때, subclass에서 어떤 attribute이나 method를 참조할 때도 순서가 있다. subclass → parent class → built-in object 순서로 object를 탐색하게 되는데, 이는 help(subclass)를 출력해보면 확인해볼 수 있다."
   ]
  },
  {
   "cell_type": "code",
   "execution_count": 5,
   "metadata": {},
   "outputs": [
    {
     "name": "stdout",
     "output_type": "stream",
     "text": [
      "Help on class Developer in module __main__:\n",
      "\n",
      "class Developer(Employee)\n",
      " |  Method resolution order:\n",
      " |      Developer\n",
      " |      Employee\n",
      " |      builtins.object\n",
      " |  \n",
      " |  Methods inherited from Employee:\n",
      " |  \n",
      " |  __init__(self, first, last)\n",
      " |      Initialize self.  See help(type(self)) for accurate signature.\n",
      " |  \n",
      " |  ----------------------------------------------------------------------\n",
      " |  Static methods inherited from Employee:\n",
      " |  \n",
      " |  isworkday(day)\n",
      " |  \n",
      " |  ----------------------------------------------------------------------\n",
      " |  Data descriptors inherited from Employee:\n",
      " |  \n",
      " |  __dict__\n",
      " |      dictionary for instance variables (if defined)\n",
      " |  \n",
      " |  __weakref__\n",
      " |      list of weak references to the object (if defined)\n",
      "\n",
      "None\n"
     ]
    }
   ],
   "source": [
    "print(help(Developer))"
   ]
  },
  {
   "cell_type": "markdown",
   "metadata": {},
   "source": [
    "이런 Method resolution order때문에 subclass에서 정의한 object들이 가장 먼저 참조되고, 그렇기 때문에 아래와 같은 현상이 나타난다:"
   ]
  },
  {
   "cell_type": "code",
   "execution_count": 16,
   "metadata": {},
   "outputs": [
    {
     "name": "stdout",
     "output_type": "stream",
     "text": [
      "--> Raising current pay 1000 to 1500.0\n"
     ]
    },
    {
     "data": {
      "text/plain": [
       "1500.0"
      ]
     },
     "execution_count": 16,
     "metadata": {},
     "output_type": "execute_result"
    }
   ],
   "source": [
    "class Employee:\n",
    "    annual_pay_raise = 1.1 # class variable을 parent class에서 1.1로 지정함\n",
    "    \n",
    "    def __init__(self, first, last, pay):\n",
    "        self.first = first\n",
    "        self.last = last\n",
    "        self.pay = pay\n",
    "        self.fullname = first + ' ' + last\n",
    "        \n",
    "    def payraise(self):\n",
    "        print(f\"--> Raising current pay {self.pay} to {self.pay * self.annual_pay_raise}\")\n",
    "        self.pay = self.pay * self.annual_pay_raise\n",
    "\n",
    "class Developer(Employee):\n",
    "    annual_pay_raise = 1.5 # subclass에서는 1.5로 지정함\n",
    "\n",
    "elon = Developer('Elon', 'Musk', 1000)\n",
    "elon.payraise() # subclass에서 정의된 class variable이 먼저 참조되어서 1.1이 아니라 1.5가 사용됨\n",
    "elon.pay"
   ]
  },
  {
   "cell_type": "markdown",
   "metadata": {},
   "source": [
    "## (3) Setting subclass-specific __init__ method"
   ]
  },
  {
   "cell_type": "markdown",
   "metadata": {},
   "source": [
    "하지만 어떤 subclass에서는 그 subclass에 특화된 값을 초기화해야할 수도 있다. 그럴때는 parent class에서 바로 상속하는 것이 아니라 subclass에서 \\_\\_init\\_\\_를 새로 선언해줘야 한다. 이때 parent class에 있는 내용들을 다 치고 있으면 (1) 귀찮고, (2) flexible하지 않다. 따라서 parent class의 \\_\\_init\\_\\_ 내용을 `super().__init__(상속할 object들)`으로 참조하게 한다."
   ]
  },
  {
   "cell_type": "code",
   "execution_count": 37,
   "metadata": {},
   "outputs": [
    {
     "name": "stdout",
     "output_type": "stream",
     "text": [
      "--> Raising current pay 1000 to 1200.0\n"
     ]
    },
    {
     "data": {
      "text/plain": [
       "1200.0"
      ]
     },
     "execution_count": 37,
     "metadata": {},
     "output_type": "execute_result"
    }
   ],
   "source": [
    "class Developer(Employee):\n",
    "    \n",
    "    def __init__(self, first, last, pay, prog_lang):\n",
    "        super().__init__(first, last, pay)\n",
    "        self.prog_lang = prog_lang\n",
    "    \n",
    "    def printpay(self):\n",
    "        print(self.pay)\n",
    "\n",
    "    def payraise(self):\n",
    "        if self.prog_lang.lower() == 'r':\n",
    "            print(f\"--> Raising current pay {self.pay} to {self.pay * 1.2}\")\n",
    "            self.pay = self.pay * 1.2\n",
    "        elif self.prog_lang.lower() == 'python':\n",
    "            print(f\"--> Raising current pay {self.pay} to {self.pay * 1.5}\")\n",
    "            self.pay = self.pay * 1.5\n",
    "\n",
    "elon = Developer('Elon', 'Musk', 1000, 'R')\n",
    "elon.payraise()\n",
    "elon.pay"
   ]
  },
  {
   "cell_type": "markdown",
   "metadata": {},
   "source": [
    "## (4) Useful functions"
   ]
  },
  {
   "cell_type": "markdown",
   "metadata": {},
   "source": [
    "### 1) isinstance(instance, class)"
   ]
  },
  {
   "cell_type": "markdown",
   "metadata": {},
   "source": [
    "한 object가 어떤 class의 instance인지 알 수 있게 해주는 함수이다. 주목할 사실은 subclass의 instance는 parent class의 instance로도 인식된다는 것이다."
   ]
  },
  {
   "cell_type": "code",
   "execution_count": 30,
   "metadata": {},
   "outputs": [
    {
     "name": "stdout",
     "output_type": "stream",
     "text": [
      "True True\n"
     ]
    }
   ],
   "source": [
    "print(isinstance(elon, Developer), isinstance(elon, Employee))"
   ]
  },
  {
   "cell_type": "markdown",
   "metadata": {},
   "source": [
    "### 2) issubclass(subclass, parent class)"
   ]
  },
  {
   "cell_type": "code",
   "execution_count": 35,
   "metadata": {},
   "outputs": [
    {
     "name": "stdout",
     "output_type": "stream",
     "text": [
      "True False\n"
     ]
    }
   ],
   "source": [
    "print(issubclass(Developer, Employee), issubclass(Employee, Developer))"
   ]
  },
  {
   "cell_type": "markdown",
   "metadata": {},
   "source": [
    "---"
   ]
  },
  {
   "cell_type": "markdown",
   "metadata": {},
   "source": [
    "---"
   ]
  }
 ],
 "metadata": {
  "kernelspec": {
   "display_name": "Python 3",
   "language": "python",
   "name": "python3"
  },
  "language_info": {
   "codemirror_mode": {
    "name": "ipython",
    "version": 3
   },
   "file_extension": ".py",
   "mimetype": "text/x-python",
   "name": "python",
   "nbconvert_exporter": "python",
   "pygments_lexer": "ipython3",
   "version": "3.6.8"
  }
 },
 "nbformat": 4,
 "nbformat_minor": 2
}
