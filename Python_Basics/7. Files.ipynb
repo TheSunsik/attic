{
 "cells": [
  {
   "cell_type": "markdown",
   "metadata": {},
   "source": [
    "#### Reference\n",
    "<li><a href=https://www.youtube.com/user/schafer5>Corey Schafer YouTube Channel</a></li>\n",
    "<li><a href=https://www.inflearn.com/course/python-파이썬-입문-강좌/>inflearn course</a></li>\n",
    "\n",
    "#### Arranged By\n",
    "<li><a href=https://github.com/TheSunsik/wrapups/tree/master/Python/Basics>sunsik kim</a></li>"
   ]
  },
  {
   "cell_type": "markdown",
   "metadata": {},
   "source": [
    "# PATH"
   ]
  },
  {
   "cell_type": "markdown",
   "metadata": {},
   "source": [
    "사실 Python을 실행한다는 것은 어떤 특정한 경로에 있는 python.exe를 실행한다는 것이다. 이 프로그램을 executable이라고 하는데, Python을 실행했을 때 현재 사용되고 있는 executable의 위치는 다음과 같이 확인할 수 있다:"
   ]
  },
  {
   "cell_type": "code",
   "execution_count": 1,
   "metadata": {},
   "outputs": [
    {
     "data": {
      "text/plain": [
       "'c:\\\\users\\\\grainpowder\\\\appdata\\\\local\\\\programs\\\\python\\\\python36\\\\python.exe'"
      ]
     },
     "execution_count": 1,
     "metadata": {},
     "output_type": "execute_result"
    }
   ],
   "source": [
    "import sys\n",
    "sys.executable"
   ]
  },
  {
   "cell_type": "markdown",
   "metadata": {},
   "source": [
    "하지만 prompt창에 python만 쳐도 python이 금새 실행된다는 것을 알고 있다. 이는 컴퓨터가 이 실행파일의 경로를 이미 알고 있다는 것을 의미하는데, 이는 시스템 환경변수 중 Path라는 변수에 이 경로의 정보가 저장되어 있기 때문에 가능한 일이다(사실 그래서 Python을 설치할 때 설치화면에서 \"Python을 PATH에 추가\"를 체크하는 것이 그렇게 중요한 것이다). 이 경로의 정보가 환경변수에 저장되어 있음은 sys.path를 조회해서 알아볼 수 있다."
   ]
  },
  {
   "cell_type": "code",
   "execution_count": 2,
   "metadata": {},
   "outputs": [
    {
     "data": {
      "text/plain": [
       "True"
      ]
     },
     "execution_count": 2,
     "metadata": {},
     "output_type": "execute_result"
    }
   ],
   "source": [
    "\"c:\\\\users\\\\grainpowder\\\\appdata\\\\local\\\\programs\\\\python\\\\python36\" in sys.path"
   ]
  },
  {
   "cell_type": "markdown",
   "metadata": {},
   "source": [
    "즉, prompt창에 python을 치면 이 경로에 있는 python.exe가 실행되기 때문에 Python이 실행되는 것이다. 하지만 때에 따라 다른 버전의 python을 실행해야 할 때도 있다. 그럴 땐 환경변수에 경로들이 저장된 순서에 따라 실행파일을 찾으므로 그 버전에 해당하는 경로를 가장 위에 위치시키면 된다(제어판의 '시스템 환경 변수 편집'에서 이 순서를 관리할 수 있음). 현재 작동되고 있는 Python의 버전이 무엇인지 확인하려면 다음을 실행시킨다:"
   ]
  },
  {
   "cell_type": "code",
   "execution_count": 3,
   "metadata": {},
   "outputs": [
    {
     "data": {
      "text/plain": [
       "'3.6.8 (tags/v3.6.8:3c6b436a57, Dec 24 2018, 00:16:47) [MSC v.1916 64 bit (AMD64)]'"
      ]
     },
     "execution_count": 3,
     "metadata": {},
     "output_type": "execute_result"
    }
   ],
   "source": [
    "sys.version"
   ]
  },
  {
   "cell_type": "markdown",
   "metadata": {},
   "source": [
    "이는 다른 버전의 pip을 사용할 때도 마찬가지다. python36내 Scripts폴더가 pip의 경로이므로, 다른 버전을 사용하려면 다른 Scripts경로를 상위에 위치시키면 된다. 또한, 어떤 패키지가 설치된 위치를 pip을 통해 확인할 수 있다:"
   ]
  },
  {
   "cell_type": "code",
   "execution_count": 4,
   "metadata": {},
   "outputs": [
    {
     "name": "stdout",
     "output_type": "stream",
     "text": [
      "Name: numpy\n",
      "Version: 1.16.0\n",
      "Summary: NumPy is the fundamental package for array computing with Python.\n",
      "Home-page: https://www.numpy.org\n",
      "Author: Travis E. Oliphant et al.\n",
      "Author-email: None\n",
      "License: BSD\n",
      "Location: c:\\users\\grainpowder\\appdata\\local\\programs\\python\\python36\\lib\\site-packages\n",
      "Requires: \n",
      "Required-by: scipy, scikit-learn, pandas, matplotlib\n"
     ]
    }
   ],
   "source": [
    "!pip show numpy"
   ]
  },
  {
   "cell_type": "markdown",
   "metadata": {},
   "source": [
    "**이 경로가 sys.executable의 경로와 일치해야 현재 실행되고 있는 Python에서 이 패키지를 사용할 수 있다.**"
   ]
  },
  {
   "cell_type": "markdown",
   "metadata": {},
   "source": [
    "---"
   ]
  },
  {
   "cell_type": "markdown",
   "metadata": {},
   "source": [
    "# Files"
   ]
  },
  {
   "cell_type": "markdown",
   "metadata": {},
   "source": [
    "파일은 크게 Text파일과 Binary파일로 분류할 수 있다. 이 중 Text파일은 인간이 이해할 수 있는 문자열 형식으로 저장된 파일을 말한다. 모든 Text파일도 실제는 Binary파일이지만, 이것이 ASCII, Unicode와 같은 문자열 집합으로 저장되어 사람이 읽을 수 있는 형태인 것 처럼 보일 뿐이다. 예를 들어, Python 코드를 작성하면 이는 Text파일이지만 이 코드가 Compiler를 통해 Binary파일로 변환되고, 이 변환된 Binary파일이 비로소 실행되어 코드에 저장되어 있던 내용대로 컴퓨터를 사용할 수 있게 되는 것이다(이 과정에서 pyc파일이 생성되는데, 이는 Text파일을 compile하면서 생성된 Binary파일이다). 사실 엑셀파일이나 워드파일도 Binary파일이므로, Text파일과 이를 구분할 수 있는 기준은 \"메모장으로 열었을 때 읽을 수 있는가\"이다."
   ]
  },
  {
   "cell_type": "markdown",
   "metadata": {},
   "source": [
    "## (1) File handling"
   ]
  },
  {
   "cell_type": "markdown",
   "metadata": {},
   "source": [
    "Python system에서는 `open`함수를 사용해 파일에 접근한다. 이 함수는 open(파일이름, 접근모드, (인코딩))형태로 사용한다."
   ]
  },
  {
   "cell_type": "code",
   "execution_count": 5,
   "metadata": {},
   "outputs": [],
   "source": [
    "champ = open('we are the champions.txt', 'r')"
   ]
  },
  {
   "cell_type": "markdown",
   "metadata": {},
   "source": [
    "open함수를 통해서는 해당 파일에 접근하는것 까지만 할 수 있다. 이에 더해 파일의 내용을 불러들이려면 다음의 method들을 사용할 수 있다:\n",
    "\n",
    "- `read` : 파일 전체를 하나의 string으로 읽어들임\n",
    "- `readlines` : 파일 전체를 하나의 list로 읽어들임\n",
    "- `readline` : 파일을 한 줄씩 string으로 읽어들임(보통 loop문과 함께 사용됨)\n",
    "\n",
    "\n",
    "그래서 앞서 champ로 접근한 we are the champions.txt 파일의 내용을 `read`를 통해 읽어들이려면 아래와 같이 하면 된다:"
   ]
  },
  {
   "cell_type": "code",
   "execution_count": 6,
   "metadata": {},
   "outputs": [
    {
     "data": {
      "text/plain": [
       "\"I've paid my dues\\nTime after time\\nI've done my sentence\\nBut committed no crime\\nAnd bad mistakes \\nI've made a few\\nI've had my share of sand kicked in my face\\nBut I've come through\\nWe are the champions, my friends\\nAnd we'll keep on fighting 'til the end\\nWe are the champions\\nWe are the champions\\nNo time for losers\\n'Cause we are the champions of the world\""
      ]
     },
     "execution_count": 6,
     "metadata": {},
     "output_type": "execute_result"
    }
   ],
   "source": [
    "champstring = champ.read()\n",
    "champstring"
   ]
  },
  {
   "cell_type": "markdown",
   "metadata": {},
   "source": [
    "하지만 이를 다시 `readlines`를 통해 list로 한번 더 읽어들이려고 하면 의도대로 되지 않는다:"
   ]
  },
  {
   "cell_type": "code",
   "execution_count": 7,
   "metadata": {},
   "outputs": [
    {
     "data": {
      "text/plain": [
       "[]"
      ]
     },
     "execution_count": 7,
     "metadata": {},
     "output_type": "execute_result"
    }
   ],
   "source": [
    "champ.readlines()"
   ]
  },
  {
   "cell_type": "markdown",
   "metadata": {},
   "source": [
    "이는 파일을 읽어들일 때 `read`나 `readlines`는 처음부터 끝까지 다 읽어버리기 때문에 한번 실행하면 포인터가 파일의 맨 끝으로 가버려서 더 이상 읽을 내용이 없는 것처럼 인식되기 때문이다. 이를 막기 위해 포인터를 한 줄씩 옮기는 방법이 `readline`이다. 이 method는 파일의 크기가 너무 커서 전체 파일을 메모리에 적재하기 힘들 때 사용하기 적절하다. <br>\n",
    "`tell`이라는 method는 파일에서 포인터의 위치를 반환하고, `seek`이라는 method는 포인터를 특정 위치로 옮긴다."
   ]
  },
  {
   "cell_type": "code",
   "execution_count": 8,
   "metadata": {},
   "outputs": [
    {
     "name": "stdout",
     "output_type": "stream",
     "text": [
      "19 * 36 * 59 * 83 * 102 * 119 * 164 * 187 * 221 * We are the champions, my friends\n",
      "262 * 284 * We are the champions\n",
      "306 * e are the champions\n",
      "326 * 366 * 'Cause we are the champions of the world"
     ]
    }
   ],
   "source": [
    "champ = open('we are the champions.txt', 'r')\n",
    "while champ.tell() < 340:\n",
    "    # Note : while clause terminates when boolean condition returns False\n",
    "    line = champ.readline()\n",
    "    print(f\"{champ.tell()}\", end = \" * \")\n",
    "    if 'champions' in line:\n",
    "        print(line, end = \"\")\n",
    "        champ.seek(champ.tell() + 1)"
   ]
  },
  {
   "cell_type": "markdown",
   "metadata": {},
   "source": [
    "이때, 파일 사용을 마쳤으면 반드시 `close` method를 적용해서 연결을 해제해줘야 한다."
   ]
  },
  {
   "cell_type": "code",
   "execution_count": 9,
   "metadata": {},
   "outputs": [],
   "source": [
    "champ.close()"
   ]
  },
  {
   "cell_type": "markdown",
   "metadata": {},
   "source": [
    "## (2) Context manager"
   ]
  },
  {
   "cell_type": "markdown",
   "metadata": {},
   "source": [
    "`with-as` 구문은 파일을 열고 닫는 과정을 하나의 chunk로 관리할 수 있게 해준다. 이를 사용하면 별도로 close를 하지 않아도 chunk가 끝나면 알아서 close를 해주기 때문에 편리하고, 따라서 open-close 구문의 대용으로 널리 사용된다."
   ]
  },
  {
   "cell_type": "code",
   "execution_count": 10,
   "metadata": {},
   "outputs": [],
   "source": [
    "with open('we are the champions.txt', 'r') as champ:\n",
    "    lastwords = []\n",
    "    previous = 0\n",
    "    line = champ.readline()\n",
    "    while previous != champ.tell():\n",
    "        previous = champ.tell()\n",
    "        linelist = line.split(' ')\n",
    "        if \"\\n\" in linelist[-1]:\n",
    "            lastwords.append(linelist[-1][:-1])\n",
    "        else:\n",
    "            lastwords.append(linelist[-1])\n",
    "        line = champ.readline()"
   ]
  },
  {
   "cell_type": "code",
   "execution_count": 11,
   "metadata": {},
   "outputs": [
    {
     "ename": "ValueError",
     "evalue": "I/O operation on closed file.",
     "output_type": "error",
     "traceback": [
      "\u001b[1;31m---------------------------------------------------------------------------\u001b[0m",
      "\u001b[1;31mValueError\u001b[0m                                Traceback (most recent call last)",
      "\u001b[1;32m<ipython-input-11-941992545403>\u001b[0m in \u001b[0;36m<module>\u001b[1;34m\u001b[0m\n\u001b[1;32m----> 1\u001b[1;33m \u001b[0mchamp\u001b[0m\u001b[1;33m.\u001b[0m\u001b[0mseek\u001b[0m\u001b[1;33m(\u001b[0m\u001b[1;36m0\u001b[0m\u001b[1;33m)\u001b[0m \u001b[1;31m# 자동으로 close되었음을 확인\u001b[0m\u001b[1;33m\u001b[0m\u001b[1;33m\u001b[0m\u001b[0m\n\u001b[0m",
      "\u001b[1;31mValueError\u001b[0m: I/O operation on closed file."
     ]
    }
   ],
   "source": [
    "champ.seek(0) # 자동으로 close되었음을 확인"
   ]
  },
  {
   "cell_type": "code",
   "execution_count": 12,
   "metadata": {},
   "outputs": [
    {
     "data": {
      "text/plain": [
       "['dues',\n",
       " 'time',\n",
       " 'sentence',\n",
       " 'crime',\n",
       " '',\n",
       " 'few',\n",
       " 'face',\n",
       " 'through',\n",
       " 'friends',\n",
       " 'end',\n",
       " 'champions',\n",
       " 'champions',\n",
       " 'losers',\n",
       " 'world']"
      ]
     },
     "execution_count": 12,
     "metadata": {},
     "output_type": "execute_result"
    }
   ],
   "source": [
    "lastwords # with-as구문 안에서 생성된 variable은 global variable임"
   ]
  },
  {
   "cell_type": "markdown",
   "metadata": {},
   "source": [
    "## (3) Handling binary files"
   ]
  },
  {
   "cell_type": "markdown",
   "metadata": {},
   "source": [
    "이진파일을 읽고 쓰는 것은 Python variable을 그대로 읽고 쓸 때 유용하다. 이때 사용하는 module이 `pickle`인데, 형태를 유지해서 보관한다는 점에서 의미가 통한다. 이진파일을 읽고 쓸 때, 접근모드인 r또는 w에 b를 붙여 이진파일을 읽고 쓰는 것임을 알려준다. `dump` method를 사용해서 이진파일을 저장하고, `load` method를 사용해서 이진파일을 읽어들인다."
   ]
  },
  {
   "cell_type": "code",
   "execution_count": 13,
   "metadata": {},
   "outputs": [],
   "source": [
    "import pickle\n",
    "with open('lastwords_binaryfile', 'wb') as connection:\n",
    "    pickle.dump(lastwords, connection) # lastwords 변수를 connection에 dump(쏟다, 들이붓다 그런거)해라."
   ]
  },
  {
   "cell_type": "markdown",
   "metadata": {},
   "source": [
    "이를 실행하면 lastwords라는 파일이 생성되는데, 이는 사실 lastwords라는 list객체 그 자체다. 따라서 'rb'모드로 이를 바로 불러들이면 방금 저장한 list객체 그대로 load됨을 확인할 수 있다."
   ]
  },
  {
   "cell_type": "code",
   "execution_count": 14,
   "metadata": {},
   "outputs": [
    {
     "data": {
      "text/plain": [
       "True"
      ]
     },
     "execution_count": 14,
     "metadata": {},
     "output_type": "execute_result"
    }
   ],
   "source": [
    "with open('lastwords_binaryfile', 'rb') as connection:\n",
    "    are_you_lastwords = pickle.load(connection)\n",
    "lastwords == are_you_lastwords"
   ]
  }
 ],
 "metadata": {
  "kernelspec": {
   "display_name": "Python 3",
   "language": "python",
   "name": "python3"
  },
  "language_info": {
   "codemirror_mode": {
    "name": "ipython",
    "version": 3
   },
   "file_extension": ".py",
   "mimetype": "text/x-python",
   "name": "python",
   "nbconvert_exporter": "python",
   "pygments_lexer": "ipython3",
   "version": "3.6.8"
  }
 },
 "nbformat": 4,
 "nbformat_minor": 2
}
