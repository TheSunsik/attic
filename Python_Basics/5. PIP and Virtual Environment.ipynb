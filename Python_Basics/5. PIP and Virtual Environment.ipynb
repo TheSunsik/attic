{
 "cells": [
  {
   "cell_type": "markdown",
   "metadata": {},
   "source": [
    "#### Reference\n",
    "<li><a href=https://www.youtube.com/user/schafer5>Corey Schafer YouTube Channel</a></li>\n",
    "<li><a href=https://medium.com/@dan_kim/파이썬-초심자를-위한-pip-그리고-virtualenv-소개-a53512fab3c2>Text in Dan Kim's page</a></li>\n",
    "\n",
    "#### Arranged By\n",
    "<li><a href=https://github.com/grainpowder/wrapups/tree/master/Python/Basics>sunsik kim</a></li>"
   ]
  },
  {
   "cell_type": "markdown",
   "metadata": {},
   "source": [
    "# 1. PIP(Pakcage management system)"
   ]
  },
  {
   "cell_type": "markdown",
   "metadata": {},
   "source": [
    "Python 패키지들을 관리(설치, 삭제, 검색 등 포함)하는 프로그램이다. 기본적으로 명령 프롬프트 창에서 `pip (command) (objective)`를 입력해서 어떤 operation을 실행한다. 대표적으로 다음과 같은 command들이 존재한다:<br><br>\n",
    "\n",
    "- `pip help (command)` : 해당 command에 대한 help정보 조회\n",
    "- `pip search searchword` : 검색어(searchword)로 검색<br><br>\n",
    "- `pip install packagename` : 해당 이름을 갖는 패키지 설치\n",
    "- `pip install -U packagename` : 해당 이름을 갖는 패키지 업데이트\n",
    "- `pip uninstall packagename` : 해당 이름을 갖는 패키지 삭제<br><br>\n",
    "- `pip list` : 현재 환경에 설치된 패키지들의 이름에 대한 목록 조회\n",
    "- `pip list --outdated` : 현재 환경에서 설치된 패키지들 중 최신 버전이 아닌 패키지들의 목록 조회<br><br>\n",
    "- `pip freeze` : 현재 환경에 설치된 패키지들의 이름과 버전에 대한 목록 조회\n",
    "- `pip freeze > requirements.txt` : 현재 환경에 설치된 패키지들의 목록을 담은 requirements.txt 파일을 저장\n",
    "- `pip install -r requirements.txt` : 그 requirement text에 있는 패키지들을 모두 설치함"
   ]
  },
  {
   "cell_type": "markdown",
   "metadata": {},
   "source": [
    "---"
   ]
  },
  {
   "cell_type": "markdown",
   "metadata": {},
   "source": [
    "# 2. venv(Package for managing virtual environment)"
   ]
  },
  {
   "cell_type": "markdown",
   "metadata": {},
   "source": [
    "만약 여러 개의 프로젝트를 하나의 컴퓨터에서 관리하고자 할 때, 프로젝트마다 필요한 패키지들과 그 버전들이 상이할 수 있다. 예를 들어, 어떤 프로젝트에서는 A패키지의 버전 1을 요구하고 다른 프로젝트에서는 A패키지의 버전 2를 요구한다면, 하나의 global environment만을 통한 package 관리로는 이러한 프로젝트별 버전관리가 쉽지 않다. 이럴 때 가상환경(virtual environment : 프로젝트별로 독립적으로 패키지를 관리할 수 있는 공간)이 필요하다. <br><br>\n",
    "\n",
    "기본으로 제공되는 패키지인 `venv`를 통해 이 기능을 사용할 수 있다. 예를 들어 현재 working directory를 바탕화면으로 설정한 후 바탕화면에 **my_project**라는 프로젝트 폴더를 만들었을 때, 이 폴더에 가상환경을 생성하기 위해서 아래와 같은 커맨드를 cmd에 입력한다\n",
    " - `python -m venv my_project\\venv`\n",
    " \n",
    "이는 Python path 어딘가에 있는 `venv`라는 모듈을 실행하여(`python -m venv`) my_project폴더 안에 venv라는 이름을 갖는 가상환경을 생성하라는 의미이다(`my_project\\venv`). 그럼 가상환경 이름을 my_project로 해서 이걸 프로젝트 폴더로 만들면 되지 굳이 이런 트리구조를 왜 만들었나 하는 의문이 들 수 있다. 근데 프로젝트를 위해 생성된 가상환경은 만들었다 지웠다를 쉽게 할 수 있는(easily disposable) 존재여서 이걸 프로젝트 폴더로 쓰면 새로운 가상환경이 필요할 때 안에 저장한 스크립트를 다 다시 옮겨야 하는 번거로움이 있다. 그래서 프로젝트 이름을 신경써서 짓고 가상환경 이름은 대충 venv 이런식으로 짓는게 convention이다.\n",
    "\n",
    "그렇게 가상환경을 생성했으면 cmd창에 아래와 같은 커맨드를 입력해서 해당 가상환경을 활성화시킨다.\n",
    "- `my_project\\venv\\Scripts\\activate`\n",
    "\n",
    "그렇게 가상환경을 활성화시켰으면 `where python` 커맨드를 cmd에 입력했을 때 해당 가상환경 내의 binary파일의 주소가 출력될 것이다. cmd창에 `deactivate`을 입력함으로써 활성화된 가상환경을 비활성화시킬 수 있다. 설치한 가상환경을 지울 때 프로젝트 폴더(여기선 my_project)를 working directory로 지정하고 `rmdir venv /s`를 입력하면 그 subdirectory까지 깔끔하게 지울 수 있다.\n",
    "\n",
    "현재 machine에 설치된 패키지들이 그대로 설치되어 있는 가상환경을 생성하고 싶을 수 있다. 그럴 때 실행하는 커맨드는 아래와 같다.\n",
    "- `python -m venv my_project\\venv --system-site-packages`\n",
    "\n",
    "그렇게 생성된 가상환경을 활성화시킨 후 pip list를 실행하면 machine에 설치된 패키지들이 전부 설치된 가상환경이 생성되었음을 확인할 수 있다. 이때 현재 가상환경에만 설치된 패키지들을 조회하거나 freeze하려면 아래와 같은 커맨드를 실행시킨다.\n",
    "- `pip list --local`\n",
    "- `pip freeze --local`"
   ]
  },
  {
   "cell_type": "markdown",
   "metadata": {},
   "source": [
    "Jupyter notebook에서는 `!`를 통해 IPython Kernel을 통한 prompt 입력이 가능하다. 아래와 같은 코드를 Jupyter에서 실행해 가상환경을 생성할 수 있다."
   ]
  },
  {
   "cell_type": "code",
   "execution_count": 1,
   "metadata": {},
   "outputs": [],
   "source": [
    "import os\n",
    "os.chdir(\"C:\\\\Users\\\\grainpowder\\\\Desktop\")\n",
    "!python -m venv my_project\\venv"
   ]
  }
 ],
 "metadata": {
  "kernelspec": {
   "display_name": "Python 3",
   "language": "python",
   "name": "python3"
  },
  "language_info": {
   "codemirror_mode": {
    "name": "ipython",
    "version": 3
   },
   "file_extension": ".py",
   "mimetype": "text/x-python",
   "name": "python",
   "nbconvert_exporter": "python",
   "pygments_lexer": "ipython3",
   "version": "3.7.5"
  }
 },
 "nbformat": 4,
 "nbformat_minor": 2
}
