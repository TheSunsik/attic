{
 "cells": [
  {
   "cell_type": "markdown",
   "metadata": {},
   "source": [
    "#### Reference\n",
    "<li><a href=https://www.youtube.com/user/schafer5>Corey Schafer YouTube Channel</a></li>\n",
    "<li><a href=https://medium.com/@dan_kim/파이썬-초심자를-위한-pip-그리고-virtualenv-소개-a53512fab3c2>Text in Dan Kim's page</a></li>\n",
    "<li><a href=https://virtualenv.pypa.io/en/latest/>Official virtualenv text</a></li>\n",
    "\n",
    "#### Arranged By\n",
    "<li><a href=https://github.com/TheSunsik/wrapups/tree/master/Python/Basics>sunsik kim</a></li>"
   ]
  },
  {
   "cell_type": "markdown",
   "metadata": {},
   "source": [
    "# 1. PIP(Pakcage management system)"
   ]
  },
  {
   "cell_type": "markdown",
   "metadata": {},
   "source": [
    "Python 패키지들을 관리(설치, 삭제, 검색 등 포함)하는 프로그램이다. 기본적으로 명령 프롬프트 창에서 `pip (command) (objective)`를 입력해서 어떤 operation을 실행한다. 대표적으로 다음과 같은 command들이 존재한다:<br><br>\n",
    "\n",
    "- `pip help (command)` : 해당 command에 대한 help정보 조회\n",
    "- `pip search searchword` : 검색어(searchword)로 검색<br><br>\n",
    "- `pip install packagename` : 해당 이름을 갖는 패키지 설치\n",
    "- `pip install -U packagename` : 해당 이름을 갖는 패키지 업데이트\n",
    "- `pip uninstall packagename` : 해당 이름을 갖는 패키지 삭제<br><br>\n",
    "- `pip list` : 현재 환경에 설치된 패키지들의 이름에 대한 목록 조회\n",
    "- `pip list --outdated` : 현재 환경에서 설치된 패키지들 중 최신 버전이 아닌 패키지들의 목록 조회<br><br>\n",
    "- `pip freeze` : 현재 환경에 설치된 패키지들의 이름과 버전에 대한 목록 조회\n",
    "- `pip freeze > name.txt` : name.txt라는 이름으로 - `pip freeze의 목록을 저장(이를 requirement text라고도 함)\n",
    "- `pip install -r name.txt` : 그 requirement text(ex. name.txt)에 있는 패키지들을 모두 설치함"
   ]
  },
  {
   "cell_type": "markdown",
   "metadata": {},
   "source": [
    "---"
   ]
  },
  {
   "cell_type": "markdown",
   "metadata": {},
   "source": [
    "# 2. virtualenv(Package for managing virtual environment)"
   ]
  },
  {
   "cell_type": "markdown",
   "metadata": {},
   "source": [
    "만약 여러 개의 프로젝트를 하나의 컴퓨터에서 관리하고자 할 때, 프로젝트마다 필요한 패키지들과 그 버전들이 상이할 수 있다. 예를 들어, 어떤 프로젝트에서는 A패키지의 버전 1을 요구하고 다른 프로젝트에서는 A패키지의 버전 2를 요구한다면, 하나의 global environment만을 통한 package 관리로는 이러한 프로젝트별 버전관리가 쉽지 않다. 이럴 때 가상환경(virtual environment : 프로젝트별로 독립적으로 패키지를 관리할 수 있는 공간)이 필요하다. 이를 위해 virtualenv라는 패키지가 필요하다. `pip install virtualenv`를 통해 해당 패키지를 설치한다.<br><br>\n",
    "\n",
    "그 후 가상환경을 위치시킬 경로로 디렉토리를 변경한 후, `virtualenv 환경이름`을 실행시켜 그 경로를 Python 가상환경으로 만들기 위한 setting을 한다. 아래 코드에서 `!`는 IPython Kernel(Prompt창)을 이용해서 해당 command를 실행시킨다는 뜻이다."
   ]
  },
  {
   "cell_type": "code",
   "execution_count": 1,
   "metadata": {},
   "outputs": [
    {
     "name": "stdout",
     "output_type": "stream",
     "text": [
      "Using base prefix 'c:\\\\users\\\\grainpowder\\\\appdata\\\\local\\\\programs\\\\python\\\\python36'\n",
      "New python executable in C:\\Users\\grainpowder\\Desktop\\Env\\Projectname\\Scripts\\python.exe\n",
      "Installing setuptools, pip, wheel...\n",
      "done.\n"
     ]
    }
   ],
   "source": [
    "import os\n",
    "try:\n",
    "    os.makedirs(\"C:/Users/grainpowder/Desktop/Env\")\n",
    "except FileExistsError:\n",
    "    pass # 디렉토리 만들 때 파일이 이미 존재하면 건너뛰라는 뜻임\n",
    "os.chdir(\"C:/Users/grainpowder/Desktop/Env\")\n",
    "!virtualenv Projectname\n",
    "# 'virtualenv Projectname'을 통해 Env라는 파일에 Projectname이라는 가상환경 만듬"
   ]
  },
  {
   "cell_type": "markdown",
   "metadata": {},
   "source": [
    "이렇게 프로젝트를 초기화시킨 후, prompt창에 가서 activate.bat이 있는 경로를 찾아 prompt창으로 실행한다. 위 예시의 경우, Env라는 현재 디렉토리 안에 Projectname이라는 가상환경이 생성되었으니 `.\\\\Projectname\\\\Scripts\\\\activate.bat`을 실행해 해당 가상환경을 실행한다(Mac같은 경우엔 activate.bat파일이 bin폴더에 들어있다고 함). Jupyter Notebook에선 당연히 아래와 같이 실행할 수 있다:"
   ]
  },
  {
   "cell_type": "code",
   "execution_count": 2,
   "metadata": {},
   "outputs": [],
   "source": [
    "os.chdir(\"./Projectname/Scripts\")\n",
    "!activate.bat"
   ]
  },
  {
   "cell_type": "markdown",
   "metadata": {},
   "source": [
    "설치된 패키지들의 리스트를 조회해 보면 Projectname 가상환경에 들어왔다는 걸 알 수 있다:"
   ]
  },
  {
   "cell_type": "code",
   "execution_count": 3,
   "metadata": {},
   "outputs": [
    {
     "name": "stdout",
     "output_type": "stream",
     "text": [
      "Package    Version\n",
      "---------- -------\n",
      "pip        19.0   \n",
      "setuptools 40.6.3 \n",
      "wheel      0.32.3 \n"
     ]
    }
   ],
   "source": [
    "!pip list"
   ]
  },
  {
   "cell_type": "markdown",
   "metadata": {},
   "source": [
    "나머지는 평소 하던대로 쓰면 된다. pip install, search 등등. 그리고 가상환경을 벗어날 땐 `deactivate`명령어를 실행하면 된다."
   ]
  }
 ],
 "metadata": {
  "kernelspec": {
   "display_name": "Python 3",
   "language": "python",
   "name": "python3"
  },
  "language_info": {
   "codemirror_mode": {
    "name": "ipython",
    "version": 3
   },
   "file_extension": ".py",
   "mimetype": "text/x-python",
   "name": "python",
   "nbconvert_exporter": "python",
   "pygments_lexer": "ipython3",
   "version": "3.6.8"
  }
 },
 "nbformat": 4,
 "nbformat_minor": 2
}
